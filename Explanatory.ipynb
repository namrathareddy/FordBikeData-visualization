{
 "cells": [
  {
   "cell_type": "raw",
   "metadata": {
    "slideshow": {
     "slide_type": "slide"
    }
   },
   "source": [
    "Percenatge of bikes used in San fransicso in day to day life."
   ]
  },
  {
   "cell_type": "markdown",
   "metadata": {
    "slideshow": {
     "slide_type": "slide"
    }
   },
   "source": [
    "Investigation Overview\n",
    "In this investigation, I wanted to look at the age group who are using bikes \n",
    " that could be used to analyze bikes used\n"
   ]
  },
  {
   "cell_type": "markdown",
   "metadata": {
    "slideshow": {
     "slide_type": "slide"
    }
   },
   "source": [
    "Dataset Overview\n",
    "The data consists of information regarding 519701 bike rides in san francisco start_time ,end_time\n",
    "start_station_name ,end_station_name,start and end station longitude and latitude,bike_id,member and\n",
    "gender\n",
    "\n"
   ]
  },
  {
   "cell_type": "markdown",
   "metadata": {
    "slideshow": {
     "slide_type": "slide"
    }
   },
   "source": [
    "Age group given dataframe is plotted to see the range of ages."
   ]
  },
  {
   "cell_type": "code",
   "execution_count": 2,
   "metadata": {
    "slideshow": {
     "slide_type": "skip"
    }
   },
   "outputs": [],
   "source": [
    "import pandas as pd\n",
    "import csv\n",
    "import seaborn as sns\n",
    "import matplotlib.pyplot as plt\n",
    "import calendar\n",
    "%matplotlib inline"
   ]
  },
  {
   "cell_type": "code",
   "execution_count": 3,
   "metadata": {
    "slideshow": {
     "slide_type": "skip"
    }
   },
   "outputs": [],
   "source": [
    "#reading the file\n",
    "df = pd.read_csv('2017-fordgobike-tripdata (1).csv')\n"
   ]
  },
  {
   "cell_type": "code",
   "execution_count": 4,
   "metadata": {
    "slideshow": {
     "slide_type": "skip"
    }
   },
   "outputs": [
    {
     "data": {
      "text/plain": [
       "<bound method DataFrame.info of         duration_sec                start_time                  end_time  \\\n",
       "0              80110  2017-12-31 16:57:39.6540  2018-01-01 15:12:50.2450   \n",
       "1              78800  2017-12-31 15:56:34.8420  2018-01-01 13:49:55.6170   \n",
       "2              45768  2017-12-31 22:45:48.4110  2018-01-01 11:28:36.8830   \n",
       "3              62172  2017-12-31 17:31:10.6360  2018-01-01 10:47:23.5310   \n",
       "4              43603  2017-12-31 14:23:14.0010  2018-01-01 02:29:57.5710   \n",
       "5               9226  2017-12-31 22:51:00.9180  2018-01-01 01:24:47.1660   \n",
       "6               4507  2017-12-31 23:49:28.4220  2018-01-01 01:04:35.6190   \n",
       "7               4334  2017-12-31 23:46:37.1960  2018-01-01 00:58:51.2110   \n",
       "8               4150  2017-12-31 23:37:07.5480  2018-01-01 00:46:18.3080   \n",
       "9               4238  2017-12-31 23:35:38.1450  2018-01-01 00:46:17.0530   \n",
       "10              3292  2017-12-31 23:46:32.4030  2018-01-01 00:41:24.6050   \n",
       "11              3177  2017-12-31 23:48:11.7570  2018-01-01 00:41:09.5810   \n",
       "12              2183  2017-12-31 23:52:55.5810  2018-01-01 00:29:18.7430   \n",
       "13              2170  2017-12-31 23:52:55.9370  2018-01-01 00:29:06.9240   \n",
       "14              2697  2017-12-31 23:35:23.2220  2018-01-01 00:20:20.8130   \n",
       "15              1544  2017-12-31 23:53:38.9430  2018-01-01 00:19:23.0470   \n",
       "16              1474  2017-12-31 23:54:40.1460  2018-01-01 00:19:14.3510   \n",
       "17              1397  2017-12-31 23:55:09.6860  2018-01-01 00:18:26.7210   \n",
       "18              1532  2017-12-31 23:52:49.4970  2018-01-01 00:18:21.9530   \n",
       "19              1216  2017-12-31 23:46:33.9930  2018-01-01 00:06:50.0580   \n",
       "20               386  2017-12-31 23:59:01.2610  2018-01-01 00:05:27.8090   \n",
       "21              4174  2017-12-31 22:52:22.2860  2018-01-01 00:01:56.6140   \n",
       "22               422  2017-12-31 23:54:25.3370  2018-01-01 00:01:27.3540   \n",
       "23              1165  2017-12-31 23:35:55.5430  2017-12-31 23:55:21.2200   \n",
       "24              1149  2017-12-31 23:36:03.5550  2017-12-31 23:55:13.4650   \n",
       "25              1130  2017-12-31 23:36:16.0690  2017-12-31 23:55:06.0960   \n",
       "26              1003  2017-12-31 23:36:34.5480  2017-12-31 23:53:18.1950   \n",
       "27               862  2017-12-31 23:38:24.8740  2017-12-31 23:52:47.5420   \n",
       "28               871  2017-12-31 23:37:47.1920  2017-12-31 23:52:18.4730   \n",
       "29               784  2017-12-31 23:39:13.0840  2017-12-31 23:52:17.2930   \n",
       "...              ...                       ...                       ...   \n",
       "519670           123  2017-06-28 10:45:45.2820  2017-06-28 10:47:49.1580   \n",
       "519671            73  2017-06-28 10:44:17.0500  2017-06-28 10:45:30.3370   \n",
       "519672          1909  2017-06-28 10:13:23.3200  2017-06-28 10:45:12.7000   \n",
       "519673          1908  2017-06-28 10:13:24.2290  2017-06-28 10:45:12.5000   \n",
       "519674           672  2017-06-28 10:32:04.3910  2017-06-28 10:43:16.9660   \n",
       "519675           602  2017-06-28 10:32:52.8650  2017-06-28 10:42:55.0420   \n",
       "519676           893  2017-06-28 10:26:50.4560  2017-06-28 10:41:43.4690   \n",
       "519677          1136  2017-06-28 10:19:28.8840  2017-06-28 10:38:25.2870   \n",
       "519678           268  2017-06-28 10:33:51.4140  2017-06-28 10:38:19.4650   \n",
       "519679           321  2017-06-28 10:30:41.1910  2017-06-28 10:36:02.9810   \n",
       "519680           797  2017-06-28 10:22:05.9320  2017-06-28 10:35:23.6310   \n",
       "519681           720  2017-06-28 10:18:36.5980  2017-06-28 10:30:37.5270   \n",
       "519682           484  2017-06-28 10:21:47.8400  2017-06-28 10:29:52.2980   \n",
       "519683           889  2017-06-28 10:12:57.9070  2017-06-28 10:27:47.4440   \n",
       "519684           510  2017-06-28 10:17:46.5560  2017-06-28 10:26:16.6480   \n",
       "519685           486  2017-06-28 10:17:41.9890  2017-06-28 10:25:48.8040   \n",
       "519686           379  2017-06-28 10:16:50.1990  2017-06-28 10:23:09.2760   \n",
       "519687           640  2017-06-28 10:11:26.8290  2017-06-28 10:22:07.5180   \n",
       "519688           410  2017-06-28 10:14:11.4100  2017-06-28 10:21:01.5800   \n",
       "519689           278  2017-06-28 10:16:16.5750  2017-06-28 10:20:55.0770   \n",
       "519690           553  2017-06-28 10:09:06.4980  2017-06-28 10:18:20.4110   \n",
       "519691          1086  2017-06-28 09:56:55.4880  2017-06-28 10:15:02.4690   \n",
       "519692          1201  2017-06-28 09:50:59.1750  2017-06-28 10:11:00.3590   \n",
       "519693           590  2017-06-28 10:00:59.0410  2017-06-28 10:10:49.4860   \n",
       "519694           730  2017-06-28 09:58:33.6690  2017-06-28 10:10:44.2130   \n",
       "519695           435  2017-06-28 10:00:54.5280  2017-06-28 10:08:10.4380   \n",
       "519696           431  2017-06-28 09:56:39.6310  2017-06-28 10:03:51.0900   \n",
       "519697           424  2017-06-28 09:47:36.3470  2017-06-28 09:54:41.1870   \n",
       "519698           366  2017-06-28 09:47:41.6640  2017-06-28 09:53:47.7150   \n",
       "519699           188  2017-06-28 09:49:46.3770  2017-06-28 09:52:55.3380   \n",
       "\n",
       "        start_station_id                                 start_station_name  \\\n",
       "0                     74                              Laguna St at Hayes St   \n",
       "1                    284  Yerba Buena Center for the Arts (Howard St at ...   \n",
       "2                    245                             Downtown Berkeley BART   \n",
       "3                     60                               8th St at Ringold St   \n",
       "4                    239                      Bancroft Way at Telegraph Ave   \n",
       "5                     30     San Francisco Caltrain (Townsend St at 4th St)   \n",
       "6                    259                            Addison St at Fourth St   \n",
       "7                    284  Yerba Buena Center for the Arts (Howard St at ...   \n",
       "8                     20    Mechanics Monument Plaza (Market St at Bush St)   \n",
       "9                     20    Mechanics Monument Plaza (Market St at Bush St)   \n",
       "10                   284  Yerba Buena Center for the Arts (Howard St at ...   \n",
       "11                   284  Yerba Buena Center for the Arts (Howard St at ...   \n",
       "12                    67  San Francisco Caltrain Station 2  (Townsend St...   \n",
       "13                    67  San Francisco Caltrain Station 2  (Townsend St...   \n",
       "14                    66                              3rd St at Townsend St   \n",
       "15                    14                              Clay St at Battery St   \n",
       "16                    14                              Clay St at Battery St   \n",
       "17                    78                                Folsom St at 9th St   \n",
       "18                    78                                Folsom St at 9th St   \n",
       "19                     4                        Cyril Magnin St at Ellis St   \n",
       "20                   317                          San Salvador St at 9th St   \n",
       "21                    30     San Francisco Caltrain (Townsend St at 4th St)   \n",
       "22                   139           Garfield Square (25th St at Harrison St)   \n",
       "23                    66                              3rd St at Townsend St   \n",
       "24                    66                              3rd St at Townsend St   \n",
       "25                    66                              3rd St at Townsend St   \n",
       "26                    66                              3rd St at Townsend St   \n",
       "27                     6                      The Embarcadero at Sansome St   \n",
       "28                   323                                 Broadway at Kearny   \n",
       "29                     6                      The Embarcadero at Sansome St   \n",
       "...                  ...                                                ...   \n",
       "519670                15  San Francisco Ferry Building (Harry Bridges Pl...   \n",
       "519671                50                2nd St at Townsend St - Coming Soon   \n",
       "519672                15  San Francisco Ferry Building (Harry Bridges Pl...   \n",
       "519673                15  San Francisco Ferry Building (Harry Bridges Pl...   \n",
       "519674                15  San Francisco Ferry Building (Harry Bridges Pl...   \n",
       "519675                26                                1st St at Folsom St   \n",
       "519676                15  San Francisco Ferry Building (Harry Bridges Pl...   \n",
       "519677                15  San Francisco Ferry Building (Harry Bridges Pl...   \n",
       "519678                23                      The Embarcadero at Steuart St   \n",
       "519679                21   Montgomery St BART Station (Market St at 2nd St)   \n",
       "519680                17   Embarcadero BART Station (Beale St at Market St)   \n",
       "519681                17   Embarcadero BART Station (Beale St at Market St)   \n",
       "519682                81                                 Berry St at 4th St   \n",
       "519683                15  San Francisco Ferry Building (Harry Bridges Pl...   \n",
       "519684                17   Embarcadero BART Station (Beale St at Market St)   \n",
       "519685                28                       The Embarcadero at Bryant St   \n",
       "519686                48                                2nd St at S Park St   \n",
       "519687                66                              3rd St at Townsend St   \n",
       "519688                11                             Davis St at Jackson St   \n",
       "519689                15  San Francisco Ferry Building (Harry Bridges Pl...   \n",
       "519690                15  San Francisco Ferry Building (Harry Bridges Pl...   \n",
       "519691                15  San Francisco Ferry Building (Harry Bridges Pl...   \n",
       "519692                81                                 Berry St at 4th St   \n",
       "519693                66                              3rd St at Townsend St   \n",
       "519694                23                      The Embarcadero at Steuart St   \n",
       "519695                81                                 Berry St at 4th St   \n",
       "519696                66                              3rd St at Townsend St   \n",
       "519697                21   Montgomery St BART Station (Market St at 2nd St)   \n",
       "519698                58                               Market St at 10th St   \n",
       "519699                25                                Howard St at 2nd St   \n",
       "\n",
       "        start_station_latitude  start_station_longitude  end_station_id  \\\n",
       "0                    37.776435              -122.426244              43   \n",
       "1                    37.784872              -122.400876              96   \n",
       "2                    37.870348              -122.267764             245   \n",
       "3                    37.774520              -122.409449               5   \n",
       "4                    37.868813              -122.258764             247   \n",
       "5                    37.776598              -122.395282              30   \n",
       "6                    37.866249              -122.299371             259   \n",
       "7                    37.784872              -122.400876             284   \n",
       "8                    37.791300              -122.399051              20   \n",
       "9                    37.791300              -122.399051              20   \n",
       "10                   37.784872              -122.400876              22   \n",
       "11                   37.784872              -122.400876              22   \n",
       "12                   37.776639              -122.395526              24   \n",
       "13                   37.776639              -122.395526              24   \n",
       "14                   37.778742              -122.392741              23   \n",
       "15                   37.795001              -122.399970              27   \n",
       "16                   37.795001              -122.399970              27   \n",
       "17                   37.773717              -122.411647              15   \n",
       "18                   37.773717              -122.411647              15   \n",
       "19                   37.785881              -122.408915             123   \n",
       "20                   37.333955              -121.877349             296   \n",
       "21                   37.776598              -122.395282               6   \n",
       "22                   37.751017              -122.411901              99   \n",
       "23                   37.778742              -122.392741              23   \n",
       "24                   37.778742              -122.392741              23   \n",
       "25                   37.778742              -122.392741              23   \n",
       "26                   37.778742              -122.392741              23   \n",
       "27                   37.804770              -122.403234              15   \n",
       "28                   37.798014              -122.405950              14   \n",
       "29                   37.804770              -122.403234              15   \n",
       "...                        ...                      ...             ...   \n",
       "519670               37.795392              -122.394203              15   \n",
       "519671               37.780526              -122.390288              50   \n",
       "519672               37.795392              -122.394203              42   \n",
       "519673               37.795392              -122.394203              42   \n",
       "519674               37.795392              -122.394203              81   \n",
       "519675               37.787290              -122.394380              90   \n",
       "519676               37.795392              -122.394203              45   \n",
       "519677               37.795392              -122.394203              81   \n",
       "519678               37.791464              -122.391034              22   \n",
       "519679               37.789625              -122.400811              48   \n",
       "519680               37.792251              -122.397086              37   \n",
       "519681               37.792251              -122.397086              58   \n",
       "519682               37.775880              -122.393170              45   \n",
       "519683               37.795392              -122.394203              23   \n",
       "519684               37.792251              -122.397086              48   \n",
       "519685               37.787168              -122.388098              81   \n",
       "519686               37.782411              -122.392706              21   \n",
       "519687               37.778742              -122.392741              21   \n",
       "519688               37.797280              -122.398436              15   \n",
       "519689               37.795392              -122.394203              13   \n",
       "519690               37.795392              -122.394203              50   \n",
       "519691               37.795392              -122.394203              90   \n",
       "519692               37.775880              -122.393170               9   \n",
       "519693               37.778742              -122.392741              22   \n",
       "519694               37.791464              -122.391034              44   \n",
       "519695               37.775880              -122.393170              45   \n",
       "519696               37.778742              -122.392741             321   \n",
       "519697               37.789625              -122.400811              48   \n",
       "519698               37.776619              -122.417385              59   \n",
       "519699               37.787522              -122.397405              48   \n",
       "\n",
       "                                         end_station_name  \\\n",
       "0       San Francisco Public Library (Grove St at Hyde...   \n",
       "1                                   Dolores St at 15th St   \n",
       "2                                  Downtown Berkeley BART   \n",
       "3            Powell St BART Station (Market St at 5th St)   \n",
       "4                               Fulton St at Bancroft Way   \n",
       "5          San Francisco Caltrain (Townsend St at 4th St)   \n",
       "6                                 Addison St at Fourth St   \n",
       "7       Yerba Buena Center for the Arts (Howard St at ...   \n",
       "8         Mechanics Monument Plaza (Market St at Bush St)   \n",
       "9         Mechanics Monument Plaza (Market St at Bush St)   \n",
       "10                                  Howard St at Beale St   \n",
       "11                                  Howard St at Beale St   \n",
       "12                                  Spear St at Folsom St   \n",
       "13                                  Spear St at Folsom St   \n",
       "14                          The Embarcadero at Steuart St   \n",
       "15                                Beale St at Harrison St   \n",
       "16                                Beale St at Harrison St   \n",
       "17      San Francisco Ferry Building (Harry Bridges Pl...   \n",
       "18      San Francisco Ferry Building (Harry Bridges Pl...   \n",
       "19                                   Folsom St at 19th St   \n",
       "20                                  5th St at Virginia St   \n",
       "21                          The Embarcadero at Sansome St   \n",
       "22                                   Folsom St at 15th St   \n",
       "23                          The Embarcadero at Steuart St   \n",
       "24                          The Embarcadero at Steuart St   \n",
       "25                          The Embarcadero at Steuart St   \n",
       "26                          The Embarcadero at Steuart St   \n",
       "27      San Francisco Ferry Building (Harry Bridges Pl...   \n",
       "28                                  Clay St at Battery St   \n",
       "29      San Francisco Ferry Building (Harry Bridges Pl...   \n",
       "...                                                   ...   \n",
       "519670  San Francisco Ferry Building (Harry Bridges Pl...   \n",
       "519671                2nd St at Townsend St - Coming Soon   \n",
       "519672      San Francisco City Hall (Polk St at Grove St)   \n",
       "519673      San Francisco City Hall (Polk St at Grove St)   \n",
       "519674                                 Berry St at 4th St   \n",
       "519675                              Townsend St at 7th St   \n",
       "519676                                5th St at Howard St   \n",
       "519677                                 Berry St at 4th St   \n",
       "519678                              Howard St at Beale St   \n",
       "519679                                2nd St at S Park St   \n",
       "519680                                2nd St at Folsom St   \n",
       "519681                               Market St at 10th St   \n",
       "519682                                5th St at Howard St   \n",
       "519683                      The Embarcadero at Steuart St   \n",
       "519684                                2nd St at S Park St   \n",
       "519685                                 Berry St at 4th St   \n",
       "519686   Montgomery St BART Station (Market St at 2nd St)   \n",
       "519687   Montgomery St BART Station (Market St at 2nd St)   \n",
       "519688  San Francisco Ferry Building (Harry Bridges Pl...   \n",
       "519689                     Commercial St at Montgomery St   \n",
       "519690                2nd St at Townsend St - Coming Soon   \n",
       "519691                              Townsend St at 7th St   \n",
       "519692                             Broadway at Battery St   \n",
       "519693                              Howard St at Beale St   \n",
       "519694  Civic Center/UN Plaza BART Station (Market St ...   \n",
       "519695                                5th St at Howard St   \n",
       "519696                                      5th at Folsom   \n",
       "519697                                2nd St at S Park St   \n",
       "519698                        S Van Ness Ave at Market St   \n",
       "519699                                2nd St at S Park St   \n",
       "\n",
       "        end_station_latitude  end_station_longitude  bike_id   user_type  \\\n",
       "0                  37.778768            -122.415929       96    Customer   \n",
       "1                  37.766210            -122.426614       88    Customer   \n",
       "2                  37.870348            -122.267764     1094    Customer   \n",
       "3                  37.783899            -122.408445     2831    Customer   \n",
       "4                  37.867789            -122.265896     3167  Subscriber   \n",
       "5                  37.776598            -122.395282     1487    Customer   \n",
       "6                  37.866249            -122.299371     3539    Customer   \n",
       "7                  37.784872            -122.400876     1503    Customer   \n",
       "8                  37.791300            -122.399051     3125    Customer   \n",
       "9                  37.791300            -122.399051     2543    Customer   \n",
       "10                 37.789756            -122.394643     3058    Customer   \n",
       "11                 37.789756            -122.394643     3197    Customer   \n",
       "12                 37.789677            -122.390428     2311  Subscriber   \n",
       "13                 37.789677            -122.390428     3717  Subscriber   \n",
       "14                 37.791464            -122.391034     3452    Customer   \n",
       "15                 37.788059            -122.391865      558  Subscriber   \n",
       "16                 37.788059            -122.391865     3646  Subscriber   \n",
       "17                 37.795392            -122.394203     1667    Customer   \n",
       "18                 37.795392            -122.394203     3114  Subscriber   \n",
       "19                 37.760594            -122.414817     1473  Subscriber   \n",
       "20                 37.325998            -121.877120     1603  Subscriber   \n",
       "21                 37.804770            -122.403234      809    Customer   \n",
       "22                 37.767037            -122.415443     2415  Subscriber   \n",
       "23                 37.791464            -122.391034     3671    Customer   \n",
       "24                 37.791464            -122.391034     3375    Customer   \n",
       "25                 37.791464            -122.391034     2721    Customer   \n",
       "26                 37.791464            -122.391034     2522    Customer   \n",
       "27                 37.795392            -122.394203      533    Customer   \n",
       "28                 37.795001            -122.399970     1456  Subscriber   \n",
       "29                 37.795392            -122.394203     1691    Customer   \n",
       "...                      ...                    ...      ...         ...   \n",
       "519670             37.795392            -122.394203      920  Subscriber   \n",
       "519671             37.780526            -122.390288      278  Subscriber   \n",
       "519672             37.778650            -122.418230      122  Subscriber   \n",
       "519673             37.778650            -122.418230      248  Subscriber   \n",
       "519674             37.775880            -122.393170      766  Subscriber   \n",
       "519675             37.771058            -122.402717      823  Subscriber   \n",
       "519676             37.781752            -122.405127      196  Subscriber   \n",
       "519677             37.775880            -122.393170      371  Subscriber   \n",
       "519678             37.789756            -122.394643      200  Subscriber   \n",
       "519679             37.782411            -122.392706      331  Subscriber   \n",
       "519680             37.785000            -122.395936     1034  Subscriber   \n",
       "519681             37.776619            -122.417385      373  Subscriber   \n",
       "519682             37.781752            -122.405127      332  Subscriber   \n",
       "519683             37.791464            -122.391034      200  Subscriber   \n",
       "519684             37.782411            -122.392706      423  Subscriber   \n",
       "519685             37.775880            -122.393170      330  Subscriber   \n",
       "519686             37.789625            -122.400811      117  Subscriber   \n",
       "519687             37.789625            -122.400811      331  Subscriber   \n",
       "519688             37.795392            -122.394203      196  Subscriber   \n",
       "519689             37.794231            -122.402923       20  Subscriber   \n",
       "519690             37.780526            -122.390288      915  Subscriber   \n",
       "519691             37.771058            -122.402717      605  Subscriber   \n",
       "519692             37.798572            -122.400869       77  Subscriber   \n",
       "519693             37.789756            -122.394643      212  Subscriber   \n",
       "519694             37.781074            -122.411738      272  Subscriber   \n",
       "519695             37.781752            -122.405127      400  Subscriber   \n",
       "519696             37.780146            -122.403071      316  Subscriber   \n",
       "519697             37.782411            -122.392706      240  Subscriber   \n",
       "519698             37.774814            -122.418954      669  Subscriber   \n",
       "519699             37.782411            -122.392706      117  Subscriber   \n",
       "\n",
       "        member_birth_year member_gender  \n",
       "0                  1987.0          Male  \n",
       "1                  1965.0        Female  \n",
       "2                     NaN           NaN  \n",
       "3                     NaN           NaN  \n",
       "4                  1997.0        Female  \n",
       "5                     NaN           NaN  \n",
       "6                  1991.0        Female  \n",
       "7                     NaN           NaN  \n",
       "8                     NaN           NaN  \n",
       "9                     NaN           NaN  \n",
       "10                    NaN           NaN  \n",
       "11                    NaN           NaN  \n",
       "12                 1990.0          Male  \n",
       "13                 1990.0          Male  \n",
       "14                    NaN           NaN  \n",
       "15                 1980.0        Female  \n",
       "16                 1979.0          Male  \n",
       "17                    NaN           NaN  \n",
       "18                 1988.0         Other  \n",
       "19                 1971.0          Male  \n",
       "20                 1992.0          Male  \n",
       "21                    NaN           NaN  \n",
       "22                 1985.0          Male  \n",
       "23                    NaN           NaN  \n",
       "24                    NaN           NaN  \n",
       "25                    NaN           NaN  \n",
       "26                    NaN           NaN  \n",
       "27                    NaN           NaN  \n",
       "28                 1979.0          Male  \n",
       "29                    NaN           NaN  \n",
       "...                   ...           ...  \n",
       "519670             1977.0        Female  \n",
       "519671             1982.0          Male  \n",
       "519672             1984.0          Male  \n",
       "519673             1989.0          Male  \n",
       "519674             1979.0          Male  \n",
       "519675             1969.0          Male  \n",
       "519676             1971.0          Male  \n",
       "519677             1984.0          Male  \n",
       "519678             1984.0        Female  \n",
       "519679             1987.0          Male  \n",
       "519680             1973.0          Male  \n",
       "519681             1987.0          Male  \n",
       "519682             1987.0          Male  \n",
       "519683             1984.0        Female  \n",
       "519684             1966.0          Male  \n",
       "519685             1986.0          Male  \n",
       "519686             1956.0        Female  \n",
       "519687             1978.0          Male  \n",
       "519688             1979.0          Male  \n",
       "519689             1952.0          Male  \n",
       "519690             1973.0          Male  \n",
       "519691             1958.0          Male  \n",
       "519692             1985.0          Male  \n",
       "519693             1983.0          Male  \n",
       "519694             1980.0          Male  \n",
       "519695             1991.0          Male  \n",
       "519696             1973.0          Male  \n",
       "519697             1985.0        Female  \n",
       "519698             1981.0          Male  \n",
       "519699             1984.0          Male  \n",
       "\n",
       "[519700 rows x 15 columns]>"
      ]
     },
     "execution_count": 4,
     "metadata": {},
     "output_type": "execute_result"
    }
   ],
   "source": [
    "df.info\n"
   ]
  },
  {
   "cell_type": "code",
   "execution_count": 5,
   "metadata": {
    "slideshow": {
     "slide_type": "skip"
    }
   },
   "outputs": [
    {
     "data": {
      "text/html": [
       "<div>\n",
       "<style scoped>\n",
       "    .dataframe tbody tr th:only-of-type {\n",
       "        vertical-align: middle;\n",
       "    }\n",
       "\n",
       "    .dataframe tbody tr th {\n",
       "        vertical-align: top;\n",
       "    }\n",
       "\n",
       "    .dataframe thead th {\n",
       "        text-align: right;\n",
       "    }\n",
       "</style>\n",
       "<table border=\"1\" class=\"dataframe\">\n",
       "  <thead>\n",
       "    <tr style=\"text-align: right;\">\n",
       "      <th></th>\n",
       "      <th>duration_sec</th>\n",
       "      <th>start_time</th>\n",
       "      <th>end_time</th>\n",
       "      <th>start_station_id</th>\n",
       "      <th>start_station_name</th>\n",
       "      <th>start_station_latitude</th>\n",
       "      <th>start_station_longitude</th>\n",
       "      <th>end_station_id</th>\n",
       "      <th>end_station_name</th>\n",
       "      <th>end_station_latitude</th>\n",
       "      <th>end_station_longitude</th>\n",
       "      <th>bike_id</th>\n",
       "      <th>user_type</th>\n",
       "      <th>member_birth_year</th>\n",
       "      <th>member_gender</th>\n",
       "    </tr>\n",
       "  </thead>\n",
       "  <tbody>\n",
       "    <tr>\n",
       "      <th>0</th>\n",
       "      <td>80110</td>\n",
       "      <td>2017-12-31 16:57:39.6540</td>\n",
       "      <td>2018-01-01 15:12:50.2450</td>\n",
       "      <td>74</td>\n",
       "      <td>Laguna St at Hayes St</td>\n",
       "      <td>37.776435</td>\n",
       "      <td>-122.426244</td>\n",
       "      <td>43</td>\n",
       "      <td>San Francisco Public Library (Grove St at Hyde...</td>\n",
       "      <td>37.778768</td>\n",
       "      <td>-122.415929</td>\n",
       "      <td>96</td>\n",
       "      <td>Customer</td>\n",
       "      <td>1987.0</td>\n",
       "      <td>Male</td>\n",
       "    </tr>\n",
       "    <tr>\n",
       "      <th>1</th>\n",
       "      <td>78800</td>\n",
       "      <td>2017-12-31 15:56:34.8420</td>\n",
       "      <td>2018-01-01 13:49:55.6170</td>\n",
       "      <td>284</td>\n",
       "      <td>Yerba Buena Center for the Arts (Howard St at ...</td>\n",
       "      <td>37.784872</td>\n",
       "      <td>-122.400876</td>\n",
       "      <td>96</td>\n",
       "      <td>Dolores St at 15th St</td>\n",
       "      <td>37.766210</td>\n",
       "      <td>-122.426614</td>\n",
       "      <td>88</td>\n",
       "      <td>Customer</td>\n",
       "      <td>1965.0</td>\n",
       "      <td>Female</td>\n",
       "    </tr>\n",
       "    <tr>\n",
       "      <th>2</th>\n",
       "      <td>45768</td>\n",
       "      <td>2017-12-31 22:45:48.4110</td>\n",
       "      <td>2018-01-01 11:28:36.8830</td>\n",
       "      <td>245</td>\n",
       "      <td>Downtown Berkeley BART</td>\n",
       "      <td>37.870348</td>\n",
       "      <td>-122.267764</td>\n",
       "      <td>245</td>\n",
       "      <td>Downtown Berkeley BART</td>\n",
       "      <td>37.870348</td>\n",
       "      <td>-122.267764</td>\n",
       "      <td>1094</td>\n",
       "      <td>Customer</td>\n",
       "      <td>NaN</td>\n",
       "      <td>NaN</td>\n",
       "    </tr>\n",
       "    <tr>\n",
       "      <th>3</th>\n",
       "      <td>62172</td>\n",
       "      <td>2017-12-31 17:31:10.6360</td>\n",
       "      <td>2018-01-01 10:47:23.5310</td>\n",
       "      <td>60</td>\n",
       "      <td>8th St at Ringold St</td>\n",
       "      <td>37.774520</td>\n",
       "      <td>-122.409449</td>\n",
       "      <td>5</td>\n",
       "      <td>Powell St BART Station (Market St at 5th St)</td>\n",
       "      <td>37.783899</td>\n",
       "      <td>-122.408445</td>\n",
       "      <td>2831</td>\n",
       "      <td>Customer</td>\n",
       "      <td>NaN</td>\n",
       "      <td>NaN</td>\n",
       "    </tr>\n",
       "    <tr>\n",
       "      <th>4</th>\n",
       "      <td>43603</td>\n",
       "      <td>2017-12-31 14:23:14.0010</td>\n",
       "      <td>2018-01-01 02:29:57.5710</td>\n",
       "      <td>239</td>\n",
       "      <td>Bancroft Way at Telegraph Ave</td>\n",
       "      <td>37.868813</td>\n",
       "      <td>-122.258764</td>\n",
       "      <td>247</td>\n",
       "      <td>Fulton St at Bancroft Way</td>\n",
       "      <td>37.867789</td>\n",
       "      <td>-122.265896</td>\n",
       "      <td>3167</td>\n",
       "      <td>Subscriber</td>\n",
       "      <td>1997.0</td>\n",
       "      <td>Female</td>\n",
       "    </tr>\n",
       "  </tbody>\n",
       "</table>\n",
       "</div>"
      ],
      "text/plain": [
       "   duration_sec                start_time                  end_time  \\\n",
       "0         80110  2017-12-31 16:57:39.6540  2018-01-01 15:12:50.2450   \n",
       "1         78800  2017-12-31 15:56:34.8420  2018-01-01 13:49:55.6170   \n",
       "2         45768  2017-12-31 22:45:48.4110  2018-01-01 11:28:36.8830   \n",
       "3         62172  2017-12-31 17:31:10.6360  2018-01-01 10:47:23.5310   \n",
       "4         43603  2017-12-31 14:23:14.0010  2018-01-01 02:29:57.5710   \n",
       "\n",
       "   start_station_id                                 start_station_name  \\\n",
       "0                74                              Laguna St at Hayes St   \n",
       "1               284  Yerba Buena Center for the Arts (Howard St at ...   \n",
       "2               245                             Downtown Berkeley BART   \n",
       "3                60                               8th St at Ringold St   \n",
       "4               239                      Bancroft Way at Telegraph Ave   \n",
       "\n",
       "   start_station_latitude  start_station_longitude  end_station_id  \\\n",
       "0               37.776435              -122.426244              43   \n",
       "1               37.784872              -122.400876              96   \n",
       "2               37.870348              -122.267764             245   \n",
       "3               37.774520              -122.409449               5   \n",
       "4               37.868813              -122.258764             247   \n",
       "\n",
       "                                    end_station_name  end_station_latitude  \\\n",
       "0  San Francisco Public Library (Grove St at Hyde...             37.778768   \n",
       "1                              Dolores St at 15th St             37.766210   \n",
       "2                             Downtown Berkeley BART             37.870348   \n",
       "3       Powell St BART Station (Market St at 5th St)             37.783899   \n",
       "4                          Fulton St at Bancroft Way             37.867789   \n",
       "\n",
       "   end_station_longitude  bike_id   user_type  member_birth_year member_gender  \n",
       "0            -122.415929       96    Customer             1987.0          Male  \n",
       "1            -122.426614       88    Customer             1965.0        Female  \n",
       "2            -122.267764     1094    Customer                NaN           NaN  \n",
       "3            -122.408445     2831    Customer                NaN           NaN  \n",
       "4            -122.265896     3167  Subscriber             1997.0        Female  "
      ]
     },
     "execution_count": 5,
     "metadata": {},
     "output_type": "execute_result"
    }
   ],
   "source": [
    "#viewing the first 5 rows\n",
    "df.head(5)"
   ]
  },
  {
   "cell_type": "code",
   "execution_count": 6,
   "metadata": {
    "slideshow": {
     "slide_type": "skip"
    }
   },
   "outputs": [
    {
     "data": {
      "text/plain": [
       "519700"
      ]
     },
     "execution_count": 6,
     "metadata": {},
     "output_type": "execute_result"
    }
   ],
   "source": [
    "#length of dataframe\n",
    "len(df)"
   ]
  },
  {
   "cell_type": "code",
   "execution_count": 7,
   "metadata": {
    "slideshow": {
     "slide_type": "skip"
    }
   },
   "outputs": [
    {
     "name": "stdout",
     "output_type": "stream",
     "text": [
      "<class 'pandas.core.frame.DataFrame'>\n",
      "RangeIndex: 519700 entries, 0 to 519699\n",
      "Data columns (total 15 columns):\n",
      "duration_sec               519700 non-null int64\n",
      "start_time                 519700 non-null object\n",
      "end_time                   519700 non-null object\n",
      "start_station_id           519700 non-null int64\n",
      "start_station_name         519700 non-null object\n",
      "start_station_latitude     519700 non-null float64\n",
      "start_station_longitude    519700 non-null float64\n",
      "end_station_id             519700 non-null int64\n",
      "end_station_name           519700 non-null object\n",
      "end_station_latitude       519700 non-null float64\n",
      "end_station_longitude      519700 non-null float64\n",
      "bike_id                    519700 non-null int64\n",
      "user_type                  519700 non-null object\n",
      "member_birth_year          453159 non-null float64\n",
      "member_gender              453238 non-null object\n",
      "dtypes: float64(5), int64(4), object(6)\n",
      "memory usage: 59.5+ MB\n"
     ]
    }
   ],
   "source": [
    "#viewing the info\n",
    "df.info()"
   ]
  },
  {
   "cell_type": "code",
   "execution_count": 25,
   "metadata": {
    "slideshow": {
     "slide_type": "skip"
    }
   },
   "outputs": [],
   "source": [
    "#having only age <60\n",
    "df = df[df['member_age']<60]"
   ]
  },
  {
   "cell_type": "code",
   "execution_count": 9,
   "metadata": {
    "slideshow": {
     "slide_type": "skip"
    }
   },
   "outputs": [],
   "source": [
    "#calculating the age of the indivuals in given data frame\n",
    "df['member_age'] = 2018 - df['member_birth_year'];"
   ]
  },
  {
   "cell_type": "code",
   "execution_count": 10,
   "metadata": {
    "slideshow": {
     "slide_type": "skip"
    }
   },
   "outputs": [
    {
     "data": {
      "text/plain": [
       "0         31.0\n",
       "1         53.0\n",
       "2          NaN\n",
       "3          NaN\n",
       "4         21.0\n",
       "5          NaN\n",
       "6         27.0\n",
       "7          NaN\n",
       "8          NaN\n",
       "9          NaN\n",
       "10         NaN\n",
       "11         NaN\n",
       "12        28.0\n",
       "13        28.0\n",
       "14         NaN\n",
       "15        38.0\n",
       "16        39.0\n",
       "17         NaN\n",
       "18        30.0\n",
       "19        47.0\n",
       "20        26.0\n",
       "21         NaN\n",
       "22        33.0\n",
       "23         NaN\n",
       "24         NaN\n",
       "25         NaN\n",
       "26         NaN\n",
       "27         NaN\n",
       "28        39.0\n",
       "29         NaN\n",
       "          ... \n",
       "519670    41.0\n",
       "519671    36.0\n",
       "519672    34.0\n",
       "519673    29.0\n",
       "519674    39.0\n",
       "519675    49.0\n",
       "519676    47.0\n",
       "519677    34.0\n",
       "519678    34.0\n",
       "519679    31.0\n",
       "519680    45.0\n",
       "519681    31.0\n",
       "519682    31.0\n",
       "519683    34.0\n",
       "519684    52.0\n",
       "519685    32.0\n",
       "519686    62.0\n",
       "519687    40.0\n",
       "519688    39.0\n",
       "519689    66.0\n",
       "519690    45.0\n",
       "519691    60.0\n",
       "519692    33.0\n",
       "519693    35.0\n",
       "519694    38.0\n",
       "519695    27.0\n",
       "519696    45.0\n",
       "519697    33.0\n",
       "519698    37.0\n",
       "519699    34.0\n",
       "Name: member_age, Length: 519700, dtype: float64"
      ]
     },
     "execution_count": 10,
     "metadata": {},
     "output_type": "execute_result"
    }
   ],
   "source": [
    "#testing\n",
    "df['member_age']"
   ]
  },
  {
   "cell_type": "markdown",
   "metadata": {
    "slideshow": {
     "slide_type": "slide"
    }
   },
   "source": [
    "Age Group\n",
    "we are plotting age groups who are using bikes"
   ]
  },
  {
   "cell_type": "code",
   "execution_count": 12,
   "metadata": {
    "slideshow": {
     "slide_type": "subslide"
    }
   },
   "outputs": [
    {
     "data": {
      "image/png": "[encoded data removed]",
      "text/plain": [
       "<Figure size 1152x720 with 1 Axes>"
      ]
     },
     "metadata": {},
     "output_type": "display_data"
    }
   ],
   "source": [
    "#plotting which ages are using bikes\n",
    "plt.figure(figsize=(16,10))\n",
    "sns.boxplot(x='member_age', data=df, palette='Blues', orient='h')\n",
    "plt.title(\"Age group using Bike\", fontsize=25, y=1.1)\n",
    "plt.xlabel(\"Age\", fontsize=20, labelpad=10)\n",
    "plt.show()"
   ]
  },
  {
   "cell_type": "markdown",
   "metadata": {
    "slideshow": {
     "slide_type": "subslide"
    }
   },
   "source": [
    "From the above plot Age group given dataframe is plotted to see the range of ages.From above we can see 30 to 45 ages are using \n",
    "bike."
   ]
  },
  {
   "cell_type": "code",
   "execution_count": 13,
   "metadata": {
    "slideshow": {
     "slide_type": "skip"
    }
   },
   "outputs": [],
   "source": [
    "df['start_time']=pd.to_datetime(df['start_time'])\n",
    "df['end_time']=pd.to_datetime(df['end_time'])"
   ]
  },
  {
   "cell_type": "code",
   "execution_count": 14,
   "metadata": {
    "slideshow": {
     "slide_type": "skip"
    }
   },
   "outputs": [],
   "source": [
    "df['start_time_year_month_renamed'] = df['start_time'].dt.strftime('%y' + '-' + '%m')"
   ]
  },
  {
   "cell_type": "code",
   "execution_count": 15,
   "metadata": {
    "slideshow": {
     "slide_type": "skip"
    }
   },
   "outputs": [],
   "source": [
    "#creating groupd for different age groups\n",
    "df['member_age_groups'] = df['member_age'].apply(lambda x: '10 - 20' if 10<x<=20\n",
    "                                                  else '20 - 30' if 20<x<=30\n",
    "                                                  else '30 - 40' if 30<x<=40\n",
    "                                                  else '40 - 50' if 40<x<=50\n",
    "                                                  else '50 - 60' if 50<x<=60\n",
    "                                                  else x)\n"
   ]
  },
  {
   "cell_type": "markdown",
   "metadata": {
    "slideshow": {
     "slide_type": "slide"
    }
   },
   "source": [
    "Age groups in different month of a year\n",
    "Plotting which age groups are riding bikes more in which month of the year."
   ]
  },
  {
   "cell_type": "code",
   "execution_count": 19,
   "metadata": {
    "slideshow": {
     "slide_type": "subslide"
    }
   },
   "outputs": [
    {
     "data": {
      "image/png": "[encoded data removed]",
      "text/plain": [
       "<Figure size 1008x576 with 1 Axes>"
      ]
     },
     "metadata": {},
     "output_type": "display_data"
    }
   ],
   "source": [
    "#Plotting age groups in which month having more rides\n",
    "plt.figure(figsize=(14,8))\n",
    "my_palette = {'20 - 30': 'deepskyblue', '30 - 40': 'navy', '40 - 50': 'lightgrey'}\n",
    "graph = sns.countplot(x='start_time_year_month_renamed', hue='member_age_groups', palette=my_palette, data=df[df['member_age_groups'].isin(['20 - 30', '30 - 40', '40 - 50'])].sort_values(by=['start_time_year_month_renamed', 'member_age_groups']))\n",
    "plt.title('The monthly trend of bike rides for 20 to 40 years olds', fontsize=22, y=1.015)\n",
    "plt.xlabel('year-month', labelpad=16)\n",
    "plt.ylabel('count [rides]', labelpad=16)\n",
    "leg = graph.legend()\n",
    "leg.set_title('Member age group',prop={'size':16})\n",
    "graph = plt.gca();\n",
    "plt.show()"
   ]
  },
  {
   "cell_type": "markdown",
   "metadata": {
    "slideshow": {
     "slide_type": "subslide"
    }
   },
   "source": [
    "Month vs age :\n",
    "            In October month people between 30 to 40 age riding bike more \n",
    "Compared to other month in an year and age group between 30 to 40 are \n",
    "Using the bike more.\n"
   ]
  },
  {
   "cell_type": "markdown",
   "metadata": {
    "slideshow": {
     "slide_type": "slide"
    }
   },
   "source": [
    "Monthly trends\n",
    "Plotting which month is having more bike rides compared to others.From that we can see which month if the year is having more bike rides.\n"
   ]
  },
  {
   "cell_type": "code",
   "execution_count": 20,
   "metadata": {
    "slideshow": {
     "slide_type": "subslide"
    }
   },
   "outputs": [
    {
     "data": {
      "image/png": "[encoded data removed]",
      "text/plain": [
       "<Figure size 1008x576 with 1 Axes>"
      ]
     },
     "metadata": {},
     "output_type": "display_data"
    }
   ],
   "source": [
    "#number of rides per month \n",
    "plt.figure(figsize=(14,8))\n",
    "sns.countplot(x='start_time_year_month_renamed', palette=\"Blues\", data=df.sort_values(by='start_time_year_month_renamed'))\n",
    "plt.title('The monthly trend of bike rides', fontsize=22, y=1.015)\n",
    "plt.xlabel('year-month', labelpad=16)\n",
    "plt.ylabel('count [rides]', labelpad=16)\n",
    "ax = plt.gca()"
   ]
  },
  {
   "cell_type": "markdown",
   "metadata": {
    "slideshow": {
     "slide_type": "subslide"
    }
   },
   "source": [
    "Bike ride from june to decemeber\n",
    "In the month of october the overall count of bike rides is more.\n"
   ]
  },
  {
   "cell_type": "code",
   "execution_count": 26,
   "metadata": {
    "slideshow": {
     "slide_type": "skip"
    }
   },
   "outputs": [],
   "source": [
    "#grouping age_group with bike_id\n",
    "ridebyage = df.groupby('member_age_groups').agg({'bike_id':'count'})"
   ]
  },
  {
   "cell_type": "code",
   "execution_count": 27,
   "metadata": {
    "slideshow": {
     "slide_type": "skip"
    }
   },
   "outputs": [
    {
     "data": {
      "text/html": [
       "<div>\n",
       "<style scoped>\n",
       "    .dataframe tbody tr th:only-of-type {\n",
       "        vertical-align: middle;\n",
       "    }\n",
       "\n",
       "    .dataframe tbody tr th {\n",
       "        vertical-align: top;\n",
       "    }\n",
       "\n",
       "    .dataframe thead th {\n",
       "        text-align: right;\n",
       "    }\n",
       "</style>\n",
       "<table border=\"1\" class=\"dataframe\">\n",
       "  <thead>\n",
       "    <tr style=\"text-align: right;\">\n",
       "      <th></th>\n",
       "      <th>bike_id</th>\n",
       "    </tr>\n",
       "    <tr>\n",
       "      <th>member_age_groups</th>\n",
       "      <th></th>\n",
       "    </tr>\n",
       "  </thead>\n",
       "  <tbody>\n",
       "    <tr>\n",
       "      <th>10 - 20</th>\n",
       "      <td>2443</td>\n",
       "    </tr>\n",
       "    <tr>\n",
       "      <th>20 - 30</th>\n",
       "      <td>122457</td>\n",
       "    </tr>\n",
       "    <tr>\n",
       "      <th>30 - 40</th>\n",
       "      <td>181790</td>\n",
       "    </tr>\n",
       "    <tr>\n",
       "      <th>40 - 50</th>\n",
       "      <td>88180</td>\n",
       "    </tr>\n",
       "    <tr>\n",
       "      <th>50 - 60</th>\n",
       "      <td>41952</td>\n",
       "    </tr>\n",
       "  </tbody>\n",
       "</table>\n",
       "</div>"
      ],
      "text/plain": [
       "                   bike_id\n",
       "member_age_groups         \n",
       "10 - 20               2443\n",
       "20 - 30             122457\n",
       "30 - 40             181790\n",
       "40 - 50              88180\n",
       "50 - 60              41952"
      ]
     },
     "execution_count": 27,
     "metadata": {},
     "output_type": "execute_result"
    }
   ],
   "source": [
    "ridebyage"
   ]
  },
  {
   "cell_type": "code",
   "execution_count": 28,
   "metadata": {
    "slideshow": {
     "slide_type": "skip"
    }
   },
   "outputs": [],
   "source": [
    "#calculating the percentage of riders\n",
    "ridebyage['percentage'] = ridebyage['bike_id']/ridebyage['bike_id'].sum()*100\n"
   ]
  },
  {
   "cell_type": "markdown",
   "metadata": {
    "slideshow": {
     "slide_type": "slide"
    }
   },
   "source": [
    "Age versus number of rides\n",
    "Plotting which age group is using more bike."
   ]
  },
  {
   "cell_type": "code",
   "execution_count": 61,
   "metadata": {
    "slideshow": {
     "slide_type": "subslide"
    }
   },
   "outputs": [
    {
     "data": {
      "image/png": "[encoded data removed]",
      "text/plain": [
       "<Figure size 864x576 with 1 Axes>"
      ]
     },
     "metadata": {},
     "output_type": "display_data"
    }
   ],
   "source": [
    "#plotting age versus percentage of riders\n",
    "ridebyage['percentage'].plot('bar', color='navy',figsize=(12,8))\n",
    "plt.title('Percentage of all bike rides per age group', fontsize=22, y=1.015)\n",
    "plt.xlabel('member age group', labelpad=16)\n",
    "plt.ylabel('pecentage(%) [rides]', labelpad=16)\n",
    "plt.show()"
   ]
  },
  {
   "cell_type": "markdown",
   "metadata": {
    "slideshow": {
     "slide_type": "subslide"
    }
   },
   "source": [
    "Bike ride percentage versus age group\n",
    " The percentage the bike ride is the number of bike rides versus the age group \n",
    "More percentage of bike are used by 30 -40 age group."
   ]
  },
  {
   "cell_type": "code",
   "execution_count": 30,
   "metadata": {
    "slideshow": {
     "slide_type": "skip"
    }
   },
   "outputs": [],
   "source": [
    "#grouping bikeid by gender\n",
    "\n",
    "gendergroup = df.groupby('member_gender').agg({'bike_id':'count'})\n"
   ]
  },
  {
   "cell_type": "code",
   "execution_count": 31,
   "metadata": {
    "slideshow": {
     "slide_type": "skip"
    }
   },
   "outputs": [
    {
     "data": {
      "text/html": [
       "<div>\n",
       "<style scoped>\n",
       "    .dataframe tbody tr th:only-of-type {\n",
       "        vertical-align: middle;\n",
       "    }\n",
       "\n",
       "    .dataframe tbody tr th {\n",
       "        vertical-align: top;\n",
       "    }\n",
       "\n",
       "    .dataframe thead th {\n",
       "        text-align: right;\n",
       "    }\n",
       "</style>\n",
       "<table border=\"1\" class=\"dataframe\">\n",
       "  <thead>\n",
       "    <tr style=\"text-align: right;\">\n",
       "      <th></th>\n",
       "      <th>bike_id</th>\n",
       "    </tr>\n",
       "    <tr>\n",
       "      <th>member_gender</th>\n",
       "      <th></th>\n",
       "    </tr>\n",
       "  </thead>\n",
       "  <tbody>\n",
       "    <tr>\n",
       "      <th>Female</th>\n",
       "      <td>96275</td>\n",
       "    </tr>\n",
       "    <tr>\n",
       "      <th>Male</th>\n",
       "      <td>334421</td>\n",
       "    </tr>\n",
       "    <tr>\n",
       "      <th>Other</th>\n",
       "      <td>6126</td>\n",
       "    </tr>\n",
       "  </tbody>\n",
       "</table>\n",
       "</div>"
      ],
      "text/plain": [
       "               bike_id\n",
       "member_gender         \n",
       "Female           96275\n",
       "Male            334421\n",
       "Other             6126"
      ]
     },
     "execution_count": 31,
     "metadata": {},
     "output_type": "execute_result"
    }
   ],
   "source": [
    "gendergroup"
   ]
  },
  {
   "cell_type": "code",
   "execution_count": 33,
   "metadata": {
    "slideshow": {
     "slide_type": "skip"
    }
   },
   "outputs": [],
   "source": [
    "gendergroup['percentage'] = gendergroup['bike_id']/gendergroup['bike_id'].sum()*100"
   ]
  },
  {
   "cell_type": "markdown",
   "metadata": {
    "slideshow": {
     "slide_type": "slide"
    }
   },
   "source": [
    "Gender versus percentage of bike rides\n",
    "Plotting which gender are using more bike."
   ]
  },
  {
   "cell_type": "code",
   "execution_count": 35,
   "metadata": {
    "scrolled": true,
    "slideshow": {
     "slide_type": "subslide"
    }
   },
   "outputs": [
    {
     "data": {
      "image/png": "[encoded data removed]",
      "text/plain": [
       "<Figure size 864x576 with 1 Axes>"
      ]
     },
     "metadata": {},
     "output_type": "display_data"
    }
   ],
   "source": [
    "#Plotting gender versus pecentage\n",
    "gendergroup['percentage'].plot('bar',figsize=(12,8),color='navy')\n",
    "plt.title('Percentage of all bike rides per gender', fontsize=22, y=1.015)\n",
    "plt.ylabel('member gender', labelpad=16)\n",
    "plt.xlabel('pecentage(%) [rides]', labelpad=16)\n",
    "plt.show()"
   ]
  },
  {
   "cell_type": "markdown",
   "metadata": {
    "slideshow": {
     "slide_type": "subslide"
    }
   },
   "source": [
    "Gender vs Bike rides\n",
    "\n",
    "\n",
    "Male and female tells number of male and female using bikes.Male ride more \n",
    "Bikes than female.\n"
   ]
  },
  {
   "cell_type": "code",
   "execution_count": 36,
   "metadata": {
    "slideshow": {
     "slide_type": "skip"
    }
   },
   "outputs": [
    {
     "name": "stderr",
     "output_type": "stream",
     "text": [
      "/Users/user/anaconda3/lib/python3.6/site-packages/ipykernel_launcher.py:1: SettingWithCopyWarning: \n",
      "A value is trying to be set on a copy of a slice from a DataFrame.\n",
      "Try using .loc[row_indexer,col_indexer] = value instead\n",
      "\n",
      "See the caveats in the documentation: http://pandas.pydata.org/pandas-docs/stable/indexing.html#indexing-view-versus-copy\n",
      "  \"\"\"Entry point for launching an IPython kernel.\n",
      "/Users/user/anaconda3/lib/python3.6/site-packages/ipykernel_launcher.py:2: SettingWithCopyWarning: \n",
      "A value is trying to be set on a copy of a slice from a DataFrame.\n",
      "Try using .loc[row_indexer,col_indexer] = value instead\n",
      "\n",
      "See the caveats in the documentation: http://pandas.pydata.org/pandas-docs/stable/indexing.html#indexing-view-versus-copy\n",
      "  \n"
     ]
    }
   ],
   "source": [
    "df['start_time_weekday_abbr']=df['start_time'].dt.weekday.apply(lambda x: calendar.day_abbr[x])\n",
    "df['end_time_weekday_abbr']=df['end_time'].dt.weekday.apply(lambda x: calendar.day_abbr[x])"
   ]
  },
  {
   "cell_type": "code",
   "execution_count": 37,
   "metadata": {
    "slideshow": {
     "slide_type": "skip"
    }
   },
   "outputs": [],
   "source": [
    "#grouping bike_id's with weekdays\n",
    "tripin_weekday = df.groupby('start_time_weekday_abbr').agg({'bike_id':'count'})"
   ]
  },
  {
   "cell_type": "code",
   "execution_count": 38,
   "metadata": {
    "slideshow": {
     "slide_type": "skip"
    }
   },
   "outputs": [],
   "source": [
    "#calculating percentage on each day\n",
    "tripin_weekday['percentage'] = tripin_weekday['bike_id']/tripin_weekday['bike_id'].sum()*100"
   ]
  },
  {
   "cell_type": "code",
   "execution_count": 39,
   "metadata": {
    "slideshow": {
     "slide_type": "skip"
    }
   },
   "outputs": [],
   "source": [
    "weekday=['Mon', 'Tue', 'Wed', 'Thu', 'Fri', 'Sat', 'Sun']"
   ]
  },
  {
   "cell_type": "markdown",
   "metadata": {
    "slideshow": {
     "slide_type": "slide"
    }
   },
   "source": [
    "# Bike rides in a weekday\n",
    "Number of bike rides in a weekday,which day of the week is having more bike rides\n"
   ]
  },
  {
   "cell_type": "code",
   "execution_count": 41,
   "metadata": {
    "slideshow": {
     "slide_type": "subslide"
    }
   },
   "outputs": [
    {
     "data": {
      "image/png": "[encoded data removed]",
      "text/plain": [
       "<Figure size 864x576 with 1 Axes>"
      ]
     },
     "metadata": {},
     "output_type": "display_data"
    }
   ],
   "source": [
    "#Percentage of all bike rides in weekday\n",
    "tripin_weekday.reindex(weekday)['percentage'].plot('bar',figsize=(12,8),color='navy')\n",
    "plt.title('Percentage of all bike rides in  weekday', fontsize=22, y=1.015)\n",
    "plt.xlabel('weekday', labelpad=16)\n",
    "plt.ylabel('percentage(%) [rides]', labelpad=16)\n",
    "plt.show()"
   ]
  },
  {
   "cell_type": "markdown",
   "metadata": {
    "slideshow": {
     "slide_type": "subslide"
    }
   },
   "source": [
    "Bike ride versus weekday\n",
    " Percentage of bike ride on the weekdays which tells us which day bike rides are\n",
    "More.From the plot it says Tuesday and Wednesday bikes are used more\n"
   ]
  },
  {
   "cell_type": "code",
   "execution_count": 42,
   "metadata": {
    "slideshow": {
     "slide_type": "skip"
    }
   },
   "outputs": [
    {
     "name": "stderr",
     "output_type": "stream",
     "text": [
      "/Users/user/anaconda3/lib/python3.6/site-packages/ipykernel_launcher.py:1: SettingWithCopyWarning: \n",
      "A value is trying to be set on a copy of a slice from a DataFrame.\n",
      "Try using .loc[row_indexer,col_indexer] = value instead\n",
      "\n",
      "See the caveats in the documentation: http://pandas.pydata.org/pandas-docs/stable/indexing.html#indexing-view-versus-copy\n",
      "  \"\"\"Entry point for launching an IPython kernel.\n",
      "/Users/user/anaconda3/lib/python3.6/site-packages/ipykernel_launcher.py:2: SettingWithCopyWarning: \n",
      "A value is trying to be set on a copy of a slice from a DataFrame.\n",
      "Try using .loc[row_indexer,col_indexer] = value instead\n",
      "\n",
      "See the caveats in the documentation: http://pandas.pydata.org/pandas-docs/stable/indexing.html#indexing-view-versus-copy\n",
      "  \n"
     ]
    }
   ],
   "source": [
    "df['start_time_hour']=df['start_time'].dt.hour\n",
    "df['end_time_hour']=df['end_time'].dt.hour"
   ]
  },
  {
   "cell_type": "code",
   "execution_count": 43,
   "metadata": {
    "slideshow": {
     "slide_type": "skip"
    }
   },
   "outputs": [],
   "source": [
    "#grouping time_hour with bike_id\n",
    "rides_per_day = df.groupby('start_time_hour').agg({'bike_id':'count'})"
   ]
  },
  {
   "cell_type": "code",
   "execution_count": 44,
   "metadata": {
    "slideshow": {
     "slide_type": "skip"
    }
   },
   "outputs": [],
   "source": [
    "#getting of percenatge of bike_id\n",
    "rides_per_day['bike_id'] = rides_per_day['bike_id']/rides_per_day['bike_id'].sum()*100"
   ]
  },
  {
   "cell_type": "code",
   "execution_count": 45,
   "metadata": {
    "slideshow": {
     "slide_type": "skip"
    }
   },
   "outputs": [
    {
     "data": {
      "text/plain": [
       "start_time_hour\n",
       "0      0.475480\n",
       "1      0.236481\n",
       "2      0.128885\n",
       "3      0.058834\n",
       "4      0.100270\n",
       "5      0.422140\n",
       "6      1.806914\n",
       "7      5.625403\n",
       "8     12.191694\n",
       "9      9.314549\n",
       "10     4.589284\n",
       "11     4.169662\n",
       "12     4.751363\n",
       "13     4.591573\n",
       "14     4.134865\n",
       "15     4.929468\n",
       "16     7.833626\n",
       "17    12.068531\n",
       "18     9.309513\n",
       "19     5.286364\n",
       "20     3.275018\n",
       "21     2.310781\n",
       "22     1.489852\n",
       "23     0.899451\n",
       "Name: bike_id, dtype: float64"
      ]
     },
     "execution_count": 45,
     "metadata": {},
     "output_type": "execute_result"
    }
   ],
   "source": [
    "rides_per_day['bike_id']"
   ]
  },
  {
   "cell_type": "markdown",
   "metadata": {
    "slideshow": {
     "slide_type": "slide"
    }
   },
   "source": [
    "Peak hours of a day\n",
    "Plotting which are the peak hours of bike rides in a day\n"
   ]
  },
  {
   "cell_type": "code",
   "execution_count": 47,
   "metadata": {
    "slideshow": {
     "slide_type": "subslide"
    }
   },
   "outputs": [
    {
     "data": {
      "image/png": "[encoded data removed]",
      "text/plain": [
       "<Figure size 864x576 with 1 Axes>"
      ]
     },
     "metadata": {},
     "output_type": "display_data"
    }
   ],
   "source": [
    "#Percentage of all bike rides by hour of the day\n",
    "rides_per_day['bike_id'].plot('line',figsize=(12,8),color='navy')\n",
    "plt.title('Percentage of all bike rides by hour of the day', fontsize=22, y=1.015)\n",
    "plt.xlabel('hour [day]', labelpad=16)\n",
    "plt.ylabel('percentage(%) [rides]', labelpad=16)\n",
    "plt.show()"
   ]
  },
  {
   "cell_type": "markdown",
   "metadata": {
    "slideshow": {
     "slide_type": "subslide"
    }
   },
   "source": [
    "Bike ride versus peak hours\n",
    "Bike ride are used more from 8 A.M in the morning and  5 P.M in the evening \n"
   ]
  },
  {
   "cell_type": "code",
   "execution_count": 48,
   "metadata": {
    "slideshow": {
     "slide_type": "skip"
    }
   },
   "outputs": [
    {
     "data": {
      "text/plain": [
       "0    10.969457\n",
       "1    89.030543\n",
       "Name: count, dtype: float64"
      ]
     },
     "execution_count": 48,
     "metadata": {},
     "output_type": "execute_result"
    }
   ],
   "source": [
    "#grouping user_type\n",
    "numberof_user = df.groupby('user_type').size().reset_index(name='count')\n",
    "numberof_user['count']/len(df)*100"
   ]
  },
  {
   "cell_type": "code",
   "execution_count": 49,
   "metadata": {
    "slideshow": {
     "slide_type": "skip"
    }
   },
   "outputs": [],
   "source": [
    "#grouping time_year with user_type\n",
    "user_type_number = df.groupby([\"start_time_year_month_renamed\", \"user_type\"]).size().reset_index()"
   ]
  },
  {
   "cell_type": "markdown",
   "metadata": {
    "slideshow": {
     "slide_type": "slide"
    }
   },
   "source": [
    "Monthly trend of bike ride per user type\n",
    "Plotting which user type is having more bike rides in an year from june to december"
   ]
  },
  {
   "cell_type": "code",
   "execution_count": 51,
   "metadata": {
    "slideshow": {
     "slide_type": "subslide"
    }
   },
   "outputs": [
    {
     "data": {
      "image/png": "[encoded data removed]",
      "text/plain": [
       "<Figure size 432x288 with 1 Axes>"
      ]
     },
     "metadata": {},
     "output_type": "display_data"
    }
   ],
   "source": [
    "#Plotting usertype with bike rides\n",
    "sns.pointplot(x='start_time_year_month_renamed', y=0, hue='user_type',data=user_type_number)\n",
    "plt.title('The monthly trend of bike rides per user type', fontsize=22, y=1.015)\n",
    "plt.xlabel('year-month', labelpad=16)\n",
    "plt.ylabel('count [rides]', labelpad=16)\n",
    "plt.show()"
   ]
  },
  {
   "cell_type": "markdown",
   "metadata": {
    "slideshow": {
     "slide_type": "subslide"
    }
   },
   "source": [
    "User_type versus year\n",
    "User_type is customer and subcribers.Subcribers ride bike more than customers\n",
    "Subcribers are who subscribed  and cutomers are who takes when needed.\n"
   ]
  },
  {
   "cell_type": "markdown",
   "metadata": {
    "slideshow": {
     "slide_type": "slide"
    }
   },
   "source": [
    "Average trip duration per usertype\n",
    "Plotting average trip per usertype meaning which usertype is having more rides"
   ]
  },
  {
   "cell_type": "code",
   "execution_count": 54,
   "metadata": {
    "slideshow": {
     "slide_type": "subslide"
    }
   },
   "outputs": [
    {
     "data": {
      "image/png": "[encoded data removed]",
      "text/plain": [
       "<Figure size 936x504 with 1 Axes>"
      ]
     },
     "metadata": {},
     "output_type": "display_data"
    }
   ],
   "source": [
    "#grouping usser_type with duration\n",
    "df['duration_min'] = df['duration_sec']/60\n",
    "user_duration = df.groupby('user_type')['duration_min'].mean().plot(kind='bar', color='navy', figsize=(13,7))\n",
    "user_duration.set_title('Average trip duration per user type', fontsize=20, y=1.015)\n",
    "user_duration.set_xlabel('user type', labelpad=16)\n",
    "user_duration.set_ylabel('minutes [trip duration]', labelpad=16)\n",
    "plt.show()"
   ]
  },
  {
   "cell_type": "markdown",
   "metadata": {
    "slideshow": {
     "slide_type": "subslide"
    }
   },
   "source": [
    "Customers are having more rides compared to subcriber"
   ]
  },
  {
   "cell_type": "code",
   "execution_count": 57,
   "metadata": {
    "slideshow": {
     "slide_type": "skip"
    }
   },
   "outputs": [],
   "source": [
    "#grouping age groups on a particular date \n",
    "subscriber_age = df[df['user_type']=='Subscriber'].groupby(['start_time_year_month_renamed', 'member_age_groups']).agg({'bike_id':'count'}).reset_index()"
   ]
  },
  {
   "cell_type": "markdown",
   "metadata": {
    "slideshow": {
     "slide_type": "slide"
    }
   },
   "source": [
    "Monthly trends of bike per subscriber member age group\n",
    "Plotting monthly trend of bike rides per subscriber with respect to age group"
   ]
  },
  {
   "cell_type": "code",
   "execution_count": 60,
   "metadata": {
    "slideshow": {
     "slide_type": "subslide"
    }
   },
   "outputs": [
    {
     "data": {
      "image/png": "[encoded data removed]",
      "text/plain": [
       "<Figure size 1080x576 with 1 Axes>"
      ]
     },
     "metadata": {},
     "output_type": "display_data"
    }
   ],
   "source": [
    "#Monthly bike rides per subscriber member age group\n",
    "plt.figure(figsize=(15,8))\n",
    "graph=sns.pointplot(x='start_time_year_month_renamed', y='bike_id', hue='member_age_groups', scale=.6, data=subscriber_age)\n",
    "plt.title(\"The monthly trend of bike rides per subscribers' member age group\", fontsize=22, y=1.015)\n",
    "plt.xlabel('year-month', labelpad=16)\n",
    "plt.ylabel('count [rides]', labelpad=16)\n",
    "leg = graph.legend()\n",
    "leg.set_title('Member age group',prop={'size':16})\n"
   ]
  },
  {
   "cell_type": "markdown",
   "metadata": {
    "slideshow": {
     "slide_type": "subslide"
    }
   },
   "source": [
    "Age group versus year-month\n",
    "Which age group ride bike more and in which month/year.30 to 40 age group \n",
    "Rides bike more in the month of October 2017.\n",
    "\n"
   ]
  },
  {
   "cell_type": "markdown",
   "metadata": {},
   "source": []
  }
 ],
 "metadata": {
  "celltoolbar": "Slideshow",
  "kernelspec": {
   "display_name": "Python 3",
   "language": "python",
   "name": "python3"
  },
  "language_info": {
   "codemirror_mode": {
    "name": "ipython",
    "version": 3
   },
   "file_extension": ".py",
   "mimetype": "text/x-python",
   "name": "python",
   "nbconvert_exporter": "python",
   "pygments_lexer": "ipython3",
   "version": "3.6.5"
  }
 },
 "nbformat": 4,
 "nbformat_minor": 2
}
