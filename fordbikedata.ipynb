{
 "cells": [
  {
   "cell_type": "code",
   "execution_count": 2,
   "metadata": {},
   "outputs": [],
   "source": [
    "import pandas as pd\n",
    "import csv\n",
    "import seaborn as sns\n",
    "import matplotlib.pyplot as plt\n",
    "import calendar\n",
    "%matplotlib inline\n"
   ]
  },
  {
   "cell_type": "code",
   "execution_count": 3,
   "metadata": {},
   "outputs": [],
   "source": [
    "#reading the file\n",
    "df = pd.read_csv('2017-fordgobike-tripdata (1).csv')"
   ]
  },
  {
   "cell_type": "code",
   "execution_count": 4,
   "metadata": {},
   "outputs": [
    {
     "data": {
      "text/plain": [
       "<bound method DataFrame.info of         duration_sec                start_time                  end_time  \\\n",
       "0              80110  2017-12-31 16:57:39.6540  2018-01-01 15:12:50.2450   \n",
       "1              78800  2017-12-31 15:56:34.8420  2018-01-01 13:49:55.6170   \n",
       "2              45768  2017-12-31 22:45:48.4110  2018-01-01 11:28:36.8830   \n",
       "3              62172  2017-12-31 17:31:10.6360  2018-01-01 10:47:23.5310   \n",
       "4              43603  2017-12-31 14:23:14.0010  2018-01-01 02:29:57.5710   \n",
       "5               9226  2017-12-31 22:51:00.9180  2018-01-01 01:24:47.1660   \n",
       "6               4507  2017-12-31 23:49:28.4220  2018-01-01 01:04:35.6190   \n",
       "7               4334  2017-12-31 23:46:37.1960  2018-01-01 00:58:51.2110   \n",
       "8               4150  2017-12-31 23:37:07.5480  2018-01-01 00:46:18.3080   \n",
       "9               4238  2017-12-31 23:35:38.1450  2018-01-01 00:46:17.0530   \n",
       "10              3292  2017-12-31 23:46:32.4030  2018-01-01 00:41:24.6050   \n",
       "11              3177  2017-12-31 23:48:11.7570  2018-01-01 00:41:09.5810   \n",
       "12              2183  2017-12-31 23:52:55.5810  2018-01-01 00:29:18.7430   \n",
       "13              2170  2017-12-31 23:52:55.9370  2018-01-01 00:29:06.9240   \n",
       "14              2697  2017-12-31 23:35:23.2220  2018-01-01 00:20:20.8130   \n",
       "15              1544  2017-12-31 23:53:38.9430  2018-01-01 00:19:23.0470   \n",
       "16              1474  2017-12-31 23:54:40.1460  2018-01-01 00:19:14.3510   \n",
       "17              1397  2017-12-31 23:55:09.6860  2018-01-01 00:18:26.7210   \n",
       "18              1532  2017-12-31 23:52:49.4970  2018-01-01 00:18:21.9530   \n",
       "19              1216  2017-12-31 23:46:33.9930  2018-01-01 00:06:50.0580   \n",
       "20               386  2017-12-31 23:59:01.2610  2018-01-01 00:05:27.8090   \n",
       "21              4174  2017-12-31 22:52:22.2860  2018-01-01 00:01:56.6140   \n",
       "22               422  2017-12-31 23:54:25.3370  2018-01-01 00:01:27.3540   \n",
       "23              1165  2017-12-31 23:35:55.5430  2017-12-31 23:55:21.2200   \n",
       "24              1149  2017-12-31 23:36:03.5550  2017-12-31 23:55:13.4650   \n",
       "25              1130  2017-12-31 23:36:16.0690  2017-12-31 23:55:06.0960   \n",
       "26              1003  2017-12-31 23:36:34.5480  2017-12-31 23:53:18.1950   \n",
       "27               862  2017-12-31 23:38:24.8740  2017-12-31 23:52:47.5420   \n",
       "28               871  2017-12-31 23:37:47.1920  2017-12-31 23:52:18.4730   \n",
       "29               784  2017-12-31 23:39:13.0840  2017-12-31 23:52:17.2930   \n",
       "...              ...                       ...                       ...   \n",
       "519670           123  2017-06-28 10:45:45.2820  2017-06-28 10:47:49.1580   \n",
       "519671            73  2017-06-28 10:44:17.0500  2017-06-28 10:45:30.3370   \n",
       "519672          1909  2017-06-28 10:13:23.3200  2017-06-28 10:45:12.7000   \n",
       "519673          1908  2017-06-28 10:13:24.2290  2017-06-28 10:45:12.5000   \n",
       "519674           672  2017-06-28 10:32:04.3910  2017-06-28 10:43:16.9660   \n",
       "519675           602  2017-06-28 10:32:52.8650  2017-06-28 10:42:55.0420   \n",
       "519676           893  2017-06-28 10:26:50.4560  2017-06-28 10:41:43.4690   \n",
       "519677          1136  2017-06-28 10:19:28.8840  2017-06-28 10:38:25.2870   \n",
       "519678           268  2017-06-28 10:33:51.4140  2017-06-28 10:38:19.4650   \n",
       "519679           321  2017-06-28 10:30:41.1910  2017-06-28 10:36:02.9810   \n",
       "519680           797  2017-06-28 10:22:05.9320  2017-06-28 10:35:23.6310   \n",
       "519681           720  2017-06-28 10:18:36.5980  2017-06-28 10:30:37.5270   \n",
       "519682           484  2017-06-28 10:21:47.8400  2017-06-28 10:29:52.2980   \n",
       "519683           889  2017-06-28 10:12:57.9070  2017-06-28 10:27:47.4440   \n",
       "519684           510  2017-06-28 10:17:46.5560  2017-06-28 10:26:16.6480   \n",
       "519685           486  2017-06-28 10:17:41.9890  2017-06-28 10:25:48.8040   \n",
       "519686           379  2017-06-28 10:16:50.1990  2017-06-28 10:23:09.2760   \n",
       "519687           640  2017-06-28 10:11:26.8290  2017-06-28 10:22:07.5180   \n",
       "519688           410  2017-06-28 10:14:11.4100  2017-06-28 10:21:01.5800   \n",
       "519689           278  2017-06-28 10:16:16.5750  2017-06-28 10:20:55.0770   \n",
       "519690           553  2017-06-28 10:09:06.4980  2017-06-28 10:18:20.4110   \n",
       "519691          1086  2017-06-28 09:56:55.4880  2017-06-28 10:15:02.4690   \n",
       "519692          1201  2017-06-28 09:50:59.1750  2017-06-28 10:11:00.3590   \n",
       "519693           590  2017-06-28 10:00:59.0410  2017-06-28 10:10:49.4860   \n",
       "519694           730  2017-06-28 09:58:33.6690  2017-06-28 10:10:44.2130   \n",
       "519695           435  2017-06-28 10:00:54.5280  2017-06-28 10:08:10.4380   \n",
       "519696           431  2017-06-28 09:56:39.6310  2017-06-28 10:03:51.0900   \n",
       "519697           424  2017-06-28 09:47:36.3470  2017-06-28 09:54:41.1870   \n",
       "519698           366  2017-06-28 09:47:41.6640  2017-06-28 09:53:47.7150   \n",
       "519699           188  2017-06-28 09:49:46.3770  2017-06-28 09:52:55.3380   \n",
       "\n",
       "        start_station_id                                 start_station_name  \\\n",
       "0                     74                              Laguna St at Hayes St   \n",
       "1                    284  Yerba Buena Center for the Arts (Howard St at ...   \n",
       "2                    245                             Downtown Berkeley BART   \n",
       "3                     60                               8th St at Ringold St   \n",
       "4                    239                      Bancroft Way at Telegraph Ave   \n",
       "5                     30     San Francisco Caltrain (Townsend St at 4th St)   \n",
       "6                    259                            Addison St at Fourth St   \n",
       "7                    284  Yerba Buena Center for the Arts (Howard St at ...   \n",
       "8                     20    Mechanics Monument Plaza (Market St at Bush St)   \n",
       "9                     20    Mechanics Monument Plaza (Market St at Bush St)   \n",
       "10                   284  Yerba Buena Center for the Arts (Howard St at ...   \n",
       "11                   284  Yerba Buena Center for the Arts (Howard St at ...   \n",
       "12                    67  San Francisco Caltrain Station 2  (Townsend St...   \n",
       "13                    67  San Francisco Caltrain Station 2  (Townsend St...   \n",
       "14                    66                              3rd St at Townsend St   \n",
       "15                    14                              Clay St at Battery St   \n",
       "16                    14                              Clay St at Battery St   \n",
       "17                    78                                Folsom St at 9th St   \n",
       "18                    78                                Folsom St at 9th St   \n",
       "19                     4                        Cyril Magnin St at Ellis St   \n",
       "20                   317                          San Salvador St at 9th St   \n",
       "21                    30     San Francisco Caltrain (Townsend St at 4th St)   \n",
       "22                   139           Garfield Square (25th St at Harrison St)   \n",
       "23                    66                              3rd St at Townsend St   \n",
       "24                    66                              3rd St at Townsend St   \n",
       "25                    66                              3rd St at Townsend St   \n",
       "26                    66                              3rd St at Townsend St   \n",
       "27                     6                      The Embarcadero at Sansome St   \n",
       "28                   323                                 Broadway at Kearny   \n",
       "29                     6                      The Embarcadero at Sansome St   \n",
       "...                  ...                                                ...   \n",
       "519670                15  San Francisco Ferry Building (Harry Bridges Pl...   \n",
       "519671                50                2nd St at Townsend St - Coming Soon   \n",
       "519672                15  San Francisco Ferry Building (Harry Bridges Pl...   \n",
       "519673                15  San Francisco Ferry Building (Harry Bridges Pl...   \n",
       "519674                15  San Francisco Ferry Building (Harry Bridges Pl...   \n",
       "519675                26                                1st St at Folsom St   \n",
       "519676                15  San Francisco Ferry Building (Harry Bridges Pl...   \n",
       "519677                15  San Francisco Ferry Building (Harry Bridges Pl...   \n",
       "519678                23                      The Embarcadero at Steuart St   \n",
       "519679                21   Montgomery St BART Station (Market St at 2nd St)   \n",
       "519680                17   Embarcadero BART Station (Beale St at Market St)   \n",
       "519681                17   Embarcadero BART Station (Beale St at Market St)   \n",
       "519682                81                                 Berry St at 4th St   \n",
       "519683                15  San Francisco Ferry Building (Harry Bridges Pl...   \n",
       "519684                17   Embarcadero BART Station (Beale St at Market St)   \n",
       "519685                28                       The Embarcadero at Bryant St   \n",
       "519686                48                                2nd St at S Park St   \n",
       "519687                66                              3rd St at Townsend St   \n",
       "519688                11                             Davis St at Jackson St   \n",
       "519689                15  San Francisco Ferry Building (Harry Bridges Pl...   \n",
       "519690                15  San Francisco Ferry Building (Harry Bridges Pl...   \n",
       "519691                15  San Francisco Ferry Building (Harry Bridges Pl...   \n",
       "519692                81                                 Berry St at 4th St   \n",
       "519693                66                              3rd St at Townsend St   \n",
       "519694                23                      The Embarcadero at Steuart St   \n",
       "519695                81                                 Berry St at 4th St   \n",
       "519696                66                              3rd St at Townsend St   \n",
       "519697                21   Montgomery St BART Station (Market St at 2nd St)   \n",
       "519698                58                               Market St at 10th St   \n",
       "519699                25                                Howard St at 2nd St   \n",
       "\n",
       "        start_station_latitude  start_station_longitude  end_station_id  \\\n",
       "0                    37.776435              -122.426244              43   \n",
       "1                    37.784872              -122.400876              96   \n",
       "2                    37.870348              -122.267764             245   \n",
       "3                    37.774520              -122.409449               5   \n",
       "4                    37.868813              -122.258764             247   \n",
       "5                    37.776598              -122.395282              30   \n",
       "6                    37.866249              -122.299371             259   \n",
       "7                    37.784872              -122.400876             284   \n",
       "8                    37.791300              -122.399051              20   \n",
       "9                    37.791300              -122.399051              20   \n",
       "10                   37.784872              -122.400876              22   \n",
       "11                   37.784872              -122.400876              22   \n",
       "12                   37.776639              -122.395526              24   \n",
       "13                   37.776639              -122.395526              24   \n",
       "14                   37.778742              -122.392741              23   \n",
       "15                   37.795001              -122.399970              27   \n",
       "16                   37.795001              -122.399970              27   \n",
       "17                   37.773717              -122.411647              15   \n",
       "18                   37.773717              -122.411647              15   \n",
       "19                   37.785881              -122.408915             123   \n",
       "20                   37.333955              -121.877349             296   \n",
       "21                   37.776598              -122.395282               6   \n",
       "22                   37.751017              -122.411901              99   \n",
       "23                   37.778742              -122.392741              23   \n",
       "24                   37.778742              -122.392741              23   \n",
       "25                   37.778742              -122.392741              23   \n",
       "26                   37.778742              -122.392741              23   \n",
       "27                   37.804770              -122.403234              15   \n",
       "28                   37.798014              -122.405950              14   \n",
       "29                   37.804770              -122.403234              15   \n",
       "...                        ...                      ...             ...   \n",
       "519670               37.795392              -122.394203              15   \n",
       "519671               37.780526              -122.390288              50   \n",
       "519672               37.795392              -122.394203              42   \n",
       "519673               37.795392              -122.394203              42   \n",
       "519674               37.795392              -122.394203              81   \n",
       "519675               37.787290              -122.394380              90   \n",
       "519676               37.795392              -122.394203              45   \n",
       "519677               37.795392              -122.394203              81   \n",
       "519678               37.791464              -122.391034              22   \n",
       "519679               37.789625              -122.400811              48   \n",
       "519680               37.792251              -122.397086              37   \n",
       "519681               37.792251              -122.397086              58   \n",
       "519682               37.775880              -122.393170              45   \n",
       "519683               37.795392              -122.394203              23   \n",
       "519684               37.792251              -122.397086              48   \n",
       "519685               37.787168              -122.388098              81   \n",
       "519686               37.782411              -122.392706              21   \n",
       "519687               37.778742              -122.392741              21   \n",
       "519688               37.797280              -122.398436              15   \n",
       "519689               37.795392              -122.394203              13   \n",
       "519690               37.795392              -122.394203              50   \n",
       "519691               37.795392              -122.394203              90   \n",
       "519692               37.775880              -122.393170               9   \n",
       "519693               37.778742              -122.392741              22   \n",
       "519694               37.791464              -122.391034              44   \n",
       "519695               37.775880              -122.393170              45   \n",
       "519696               37.778742              -122.392741             321   \n",
       "519697               37.789625              -122.400811              48   \n",
       "519698               37.776619              -122.417385              59   \n",
       "519699               37.787522              -122.397405              48   \n",
       "\n",
       "                                         end_station_name  \\\n",
       "0       San Francisco Public Library (Grove St at Hyde...   \n",
       "1                                   Dolores St at 15th St   \n",
       "2                                  Downtown Berkeley BART   \n",
       "3            Powell St BART Station (Market St at 5th St)   \n",
       "4                               Fulton St at Bancroft Way   \n",
       "5          San Francisco Caltrain (Townsend St at 4th St)   \n",
       "6                                 Addison St at Fourth St   \n",
       "7       Yerba Buena Center for the Arts (Howard St at ...   \n",
       "8         Mechanics Monument Plaza (Market St at Bush St)   \n",
       "9         Mechanics Monument Plaza (Market St at Bush St)   \n",
       "10                                  Howard St at Beale St   \n",
       "11                                  Howard St at Beale St   \n",
       "12                                  Spear St at Folsom St   \n",
       "13                                  Spear St at Folsom St   \n",
       "14                          The Embarcadero at Steuart St   \n",
       "15                                Beale St at Harrison St   \n",
       "16                                Beale St at Harrison St   \n",
       "17      San Francisco Ferry Building (Harry Bridges Pl...   \n",
       "18      San Francisco Ferry Building (Harry Bridges Pl...   \n",
       "19                                   Folsom St at 19th St   \n",
       "20                                  5th St at Virginia St   \n",
       "21                          The Embarcadero at Sansome St   \n",
       "22                                   Folsom St at 15th St   \n",
       "23                          The Embarcadero at Steuart St   \n",
       "24                          The Embarcadero at Steuart St   \n",
       "25                          The Embarcadero at Steuart St   \n",
       "26                          The Embarcadero at Steuart St   \n",
       "27      San Francisco Ferry Building (Harry Bridges Pl...   \n",
       "28                                  Clay St at Battery St   \n",
       "29      San Francisco Ferry Building (Harry Bridges Pl...   \n",
       "...                                                   ...   \n",
       "519670  San Francisco Ferry Building (Harry Bridges Pl...   \n",
       "519671                2nd St at Townsend St - Coming Soon   \n",
       "519672      San Francisco City Hall (Polk St at Grove St)   \n",
       "519673      San Francisco City Hall (Polk St at Grove St)   \n",
       "519674                                 Berry St at 4th St   \n",
       "519675                              Townsend St at 7th St   \n",
       "519676                                5th St at Howard St   \n",
       "519677                                 Berry St at 4th St   \n",
       "519678                              Howard St at Beale St   \n",
       "519679                                2nd St at S Park St   \n",
       "519680                                2nd St at Folsom St   \n",
       "519681                               Market St at 10th St   \n",
       "519682                                5th St at Howard St   \n",
       "519683                      The Embarcadero at Steuart St   \n",
       "519684                                2nd St at S Park St   \n",
       "519685                                 Berry St at 4th St   \n",
       "519686   Montgomery St BART Station (Market St at 2nd St)   \n",
       "519687   Montgomery St BART Station (Market St at 2nd St)   \n",
       "519688  San Francisco Ferry Building (Harry Bridges Pl...   \n",
       "519689                     Commercial St at Montgomery St   \n",
       "519690                2nd St at Townsend St - Coming Soon   \n",
       "519691                              Townsend St at 7th St   \n",
       "519692                             Broadway at Battery St   \n",
       "519693                              Howard St at Beale St   \n",
       "519694  Civic Center/UN Plaza BART Station (Market St ...   \n",
       "519695                                5th St at Howard St   \n",
       "519696                                      5th at Folsom   \n",
       "519697                                2nd St at S Park St   \n",
       "519698                        S Van Ness Ave at Market St   \n",
       "519699                                2nd St at S Park St   \n",
       "\n",
       "        end_station_latitude  end_station_longitude  bike_id   user_type  \\\n",
       "0                  37.778768            -122.415929       96    Customer   \n",
       "1                  37.766210            -122.426614       88    Customer   \n",
       "2                  37.870348            -122.267764     1094    Customer   \n",
       "3                  37.783899            -122.408445     2831    Customer   \n",
       "4                  37.867789            -122.265896     3167  Subscriber   \n",
       "5                  37.776598            -122.395282     1487    Customer   \n",
       "6                  37.866249            -122.299371     3539    Customer   \n",
       "7                  37.784872            -122.400876     1503    Customer   \n",
       "8                  37.791300            -122.399051     3125    Customer   \n",
       "9                  37.791300            -122.399051     2543    Customer   \n",
       "10                 37.789756            -122.394643     3058    Customer   \n",
       "11                 37.789756            -122.394643     3197    Customer   \n",
       "12                 37.789677            -122.390428     2311  Subscriber   \n",
       "13                 37.789677            -122.390428     3717  Subscriber   \n",
       "14                 37.791464            -122.391034     3452    Customer   \n",
       "15                 37.788059            -122.391865      558  Subscriber   \n",
       "16                 37.788059            -122.391865     3646  Subscriber   \n",
       "17                 37.795392            -122.394203     1667    Customer   \n",
       "18                 37.795392            -122.394203     3114  Subscriber   \n",
       "19                 37.760594            -122.414817     1473  Subscriber   \n",
       "20                 37.325998            -121.877120     1603  Subscriber   \n",
       "21                 37.804770            -122.403234      809    Customer   \n",
       "22                 37.767037            -122.415443     2415  Subscriber   \n",
       "23                 37.791464            -122.391034     3671    Customer   \n",
       "24                 37.791464            -122.391034     3375    Customer   \n",
       "25                 37.791464            -122.391034     2721    Customer   \n",
       "26                 37.791464            -122.391034     2522    Customer   \n",
       "27                 37.795392            -122.394203      533    Customer   \n",
       "28                 37.795001            -122.399970     1456  Subscriber   \n",
       "29                 37.795392            -122.394203     1691    Customer   \n",
       "...                      ...                    ...      ...         ...   \n",
       "519670             37.795392            -122.394203      920  Subscriber   \n",
       "519671             37.780526            -122.390288      278  Subscriber   \n",
       "519672             37.778650            -122.418230      122  Subscriber   \n",
       "519673             37.778650            -122.418230      248  Subscriber   \n",
       "519674             37.775880            -122.393170      766  Subscriber   \n",
       "519675             37.771058            -122.402717      823  Subscriber   \n",
       "519676             37.781752            -122.405127      196  Subscriber   \n",
       "519677             37.775880            -122.393170      371  Subscriber   \n",
       "519678             37.789756            -122.394643      200  Subscriber   \n",
       "519679             37.782411            -122.392706      331  Subscriber   \n",
       "519680             37.785000            -122.395936     1034  Subscriber   \n",
       "519681             37.776619            -122.417385      373  Subscriber   \n",
       "519682             37.781752            -122.405127      332  Subscriber   \n",
       "519683             37.791464            -122.391034      200  Subscriber   \n",
       "519684             37.782411            -122.392706      423  Subscriber   \n",
       "519685             37.775880            -122.393170      330  Subscriber   \n",
       "519686             37.789625            -122.400811      117  Subscriber   \n",
       "519687             37.789625            -122.400811      331  Subscriber   \n",
       "519688             37.795392            -122.394203      196  Subscriber   \n",
       "519689             37.794231            -122.402923       20  Subscriber   \n",
       "519690             37.780526            -122.390288      915  Subscriber   \n",
       "519691             37.771058            -122.402717      605  Subscriber   \n",
       "519692             37.798572            -122.400869       77  Subscriber   \n",
       "519693             37.789756            -122.394643      212  Subscriber   \n",
       "519694             37.781074            -122.411738      272  Subscriber   \n",
       "519695             37.781752            -122.405127      400  Subscriber   \n",
       "519696             37.780146            -122.403071      316  Subscriber   \n",
       "519697             37.782411            -122.392706      240  Subscriber   \n",
       "519698             37.774814            -122.418954      669  Subscriber   \n",
       "519699             37.782411            -122.392706      117  Subscriber   \n",
       "\n",
       "        member_birth_year member_gender  \n",
       "0                  1987.0          Male  \n",
       "1                  1965.0        Female  \n",
       "2                     NaN           NaN  \n",
       "3                     NaN           NaN  \n",
       "4                  1997.0        Female  \n",
       "5                     NaN           NaN  \n",
       "6                  1991.0        Female  \n",
       "7                     NaN           NaN  \n",
       "8                     NaN           NaN  \n",
       "9                     NaN           NaN  \n",
       "10                    NaN           NaN  \n",
       "11                    NaN           NaN  \n",
       "12                 1990.0          Male  \n",
       "13                 1990.0          Male  \n",
       "14                    NaN           NaN  \n",
       "15                 1980.0        Female  \n",
       "16                 1979.0          Male  \n",
       "17                    NaN           NaN  \n",
       "18                 1988.0         Other  \n",
       "19                 1971.0          Male  \n",
       "20                 1992.0          Male  \n",
       "21                    NaN           NaN  \n",
       "22                 1985.0          Male  \n",
       "23                    NaN           NaN  \n",
       "24                    NaN           NaN  \n",
       "25                    NaN           NaN  \n",
       "26                    NaN           NaN  \n",
       "27                    NaN           NaN  \n",
       "28                 1979.0          Male  \n",
       "29                    NaN           NaN  \n",
       "...                   ...           ...  \n",
       "519670             1977.0        Female  \n",
       "519671             1982.0          Male  \n",
       "519672             1984.0          Male  \n",
       "519673             1989.0          Male  \n",
       "519674             1979.0          Male  \n",
       "519675             1969.0          Male  \n",
       "519676             1971.0          Male  \n",
       "519677             1984.0          Male  \n",
       "519678             1984.0        Female  \n",
       "519679             1987.0          Male  \n",
       "519680             1973.0          Male  \n",
       "519681             1987.0          Male  \n",
       "519682             1987.0          Male  \n",
       "519683             1984.0        Female  \n",
       "519684             1966.0          Male  \n",
       "519685             1986.0          Male  \n",
       "519686             1956.0        Female  \n",
       "519687             1978.0          Male  \n",
       "519688             1979.0          Male  \n",
       "519689             1952.0          Male  \n",
       "519690             1973.0          Male  \n",
       "519691             1958.0          Male  \n",
       "519692             1985.0          Male  \n",
       "519693             1983.0          Male  \n",
       "519694             1980.0          Male  \n",
       "519695             1991.0          Male  \n",
       "519696             1973.0          Male  \n",
       "519697             1985.0        Female  \n",
       "519698             1981.0          Male  \n",
       "519699             1984.0          Male  \n",
       "\n",
       "[519700 rows x 15 columns]>"
      ]
     },
     "execution_count": 4,
     "metadata": {},
     "output_type": "execute_result"
    }
   ],
   "source": [
    "df.info"
   ]
  },
  {
   "cell_type": "code",
   "execution_count": 5,
   "metadata": {},
   "outputs": [
    {
     "data": {
      "text/html": [
       "<div>\n",
       "<style scoped>\n",
       "    .dataframe tbody tr th:only-of-type {\n",
       "        vertical-align: middle;\n",
       "    }\n",
       "\n",
       "    .dataframe tbody tr th {\n",
       "        vertical-align: top;\n",
       "    }\n",
       "\n",
       "    .dataframe thead th {\n",
       "        text-align: right;\n",
       "    }\n",
       "</style>\n",
       "<table border=\"1\" class=\"dataframe\">\n",
       "  <thead>\n",
       "    <tr style=\"text-align: right;\">\n",
       "      <th></th>\n",
       "      <th>duration_sec</th>\n",
       "      <th>start_time</th>\n",
       "      <th>end_time</th>\n",
       "      <th>start_station_id</th>\n",
       "      <th>start_station_name</th>\n",
       "      <th>start_station_latitude</th>\n",
       "      <th>start_station_longitude</th>\n",
       "      <th>end_station_id</th>\n",
       "      <th>end_station_name</th>\n",
       "      <th>end_station_latitude</th>\n",
       "      <th>end_station_longitude</th>\n",
       "      <th>bike_id</th>\n",
       "      <th>user_type</th>\n",
       "      <th>member_birth_year</th>\n",
       "      <th>member_gender</th>\n",
       "    </tr>\n",
       "  </thead>\n",
       "  <tbody>\n",
       "    <tr>\n",
       "      <th>0</th>\n",
       "      <td>80110</td>\n",
       "      <td>2017-12-31 16:57:39.6540</td>\n",
       "      <td>2018-01-01 15:12:50.2450</td>\n",
       "      <td>74</td>\n",
       "      <td>Laguna St at Hayes St</td>\n",
       "      <td>37.776435</td>\n",
       "      <td>-122.426244</td>\n",
       "      <td>43</td>\n",
       "      <td>San Francisco Public Library (Grove St at Hyde...</td>\n",
       "      <td>37.778768</td>\n",
       "      <td>-122.415929</td>\n",
       "      <td>96</td>\n",
       "      <td>Customer</td>\n",
       "      <td>1987.0</td>\n",
       "      <td>Male</td>\n",
       "    </tr>\n",
       "    <tr>\n",
       "      <th>1</th>\n",
       "      <td>78800</td>\n",
       "      <td>2017-12-31 15:56:34.8420</td>\n",
       "      <td>2018-01-01 13:49:55.6170</td>\n",
       "      <td>284</td>\n",
       "      <td>Yerba Buena Center for the Arts (Howard St at ...</td>\n",
       "      <td>37.784872</td>\n",
       "      <td>-122.400876</td>\n",
       "      <td>96</td>\n",
       "      <td>Dolores St at 15th St</td>\n",
       "      <td>37.766210</td>\n",
       "      <td>-122.426614</td>\n",
       "      <td>88</td>\n",
       "      <td>Customer</td>\n",
       "      <td>1965.0</td>\n",
       "      <td>Female</td>\n",
       "    </tr>\n",
       "    <tr>\n",
       "      <th>2</th>\n",
       "      <td>45768</td>\n",
       "      <td>2017-12-31 22:45:48.4110</td>\n",
       "      <td>2018-01-01 11:28:36.8830</td>\n",
       "      <td>245</td>\n",
       "      <td>Downtown Berkeley BART</td>\n",
       "      <td>37.870348</td>\n",
       "      <td>-122.267764</td>\n",
       "      <td>245</td>\n",
       "      <td>Downtown Berkeley BART</td>\n",
       "      <td>37.870348</td>\n",
       "      <td>-122.267764</td>\n",
       "      <td>1094</td>\n",
       "      <td>Customer</td>\n",
       "      <td>NaN</td>\n",
       "      <td>NaN</td>\n",
       "    </tr>\n",
       "    <tr>\n",
       "      <th>3</th>\n",
       "      <td>62172</td>\n",
       "      <td>2017-12-31 17:31:10.6360</td>\n",
       "      <td>2018-01-01 10:47:23.5310</td>\n",
       "      <td>60</td>\n",
       "      <td>8th St at Ringold St</td>\n",
       "      <td>37.774520</td>\n",
       "      <td>-122.409449</td>\n",
       "      <td>5</td>\n",
       "      <td>Powell St BART Station (Market St at 5th St)</td>\n",
       "      <td>37.783899</td>\n",
       "      <td>-122.408445</td>\n",
       "      <td>2831</td>\n",
       "      <td>Customer</td>\n",
       "      <td>NaN</td>\n",
       "      <td>NaN</td>\n",
       "    </tr>\n",
       "    <tr>\n",
       "      <th>4</th>\n",
       "      <td>43603</td>\n",
       "      <td>2017-12-31 14:23:14.0010</td>\n",
       "      <td>2018-01-01 02:29:57.5710</td>\n",
       "      <td>239</td>\n",
       "      <td>Bancroft Way at Telegraph Ave</td>\n",
       "      <td>37.868813</td>\n",
       "      <td>-122.258764</td>\n",
       "      <td>247</td>\n",
       "      <td>Fulton St at Bancroft Way</td>\n",
       "      <td>37.867789</td>\n",
       "      <td>-122.265896</td>\n",
       "      <td>3167</td>\n",
       "      <td>Subscriber</td>\n",
       "      <td>1997.0</td>\n",
       "      <td>Female</td>\n",
       "    </tr>\n",
       "  </tbody>\n",
       "</table>\n",
       "</div>"
      ],
      "text/plain": [
       "   duration_sec                start_time                  end_time  \\\n",
       "0         80110  2017-12-31 16:57:39.6540  2018-01-01 15:12:50.2450   \n",
       "1         78800  2017-12-31 15:56:34.8420  2018-01-01 13:49:55.6170   \n",
       "2         45768  2017-12-31 22:45:48.4110  2018-01-01 11:28:36.8830   \n",
       "3         62172  2017-12-31 17:31:10.6360  2018-01-01 10:47:23.5310   \n",
       "4         43603  2017-12-31 14:23:14.0010  2018-01-01 02:29:57.5710   \n",
       "\n",
       "   start_station_id                                 start_station_name  \\\n",
       "0                74                              Laguna St at Hayes St   \n",
       "1               284  Yerba Buena Center for the Arts (Howard St at ...   \n",
       "2               245                             Downtown Berkeley BART   \n",
       "3                60                               8th St at Ringold St   \n",
       "4               239                      Bancroft Way at Telegraph Ave   \n",
       "\n",
       "   start_station_latitude  start_station_longitude  end_station_id  \\\n",
       "0               37.776435              -122.426244              43   \n",
       "1               37.784872              -122.400876              96   \n",
       "2               37.870348              -122.267764             245   \n",
       "3               37.774520              -122.409449               5   \n",
       "4               37.868813              -122.258764             247   \n",
       "\n",
       "                                    end_station_name  end_station_latitude  \\\n",
       "0  San Francisco Public Library (Grove St at Hyde...             37.778768   \n",
       "1                              Dolores St at 15th St             37.766210   \n",
       "2                             Downtown Berkeley BART             37.870348   \n",
       "3       Powell St BART Station (Market St at 5th St)             37.783899   \n",
       "4                          Fulton St at Bancroft Way             37.867789   \n",
       "\n",
       "   end_station_longitude  bike_id   user_type  member_birth_year member_gender  \n",
       "0            -122.415929       96    Customer             1987.0          Male  \n",
       "1            -122.426614       88    Customer             1965.0        Female  \n",
       "2            -122.267764     1094    Customer                NaN           NaN  \n",
       "3            -122.408445     2831    Customer                NaN           NaN  \n",
       "4            -122.265896     3167  Subscriber             1997.0        Female  "
      ]
     },
     "execution_count": 5,
     "metadata": {},
     "output_type": "execute_result"
    }
   ],
   "source": [
    "#viewing the first 5 rows\n",
    "df.head(5)"
   ]
  },
  {
   "cell_type": "code",
   "execution_count": 6,
   "metadata": {},
   "outputs": [
    {
     "data": {
      "text/plain": [
       "519700"
      ]
     },
     "execution_count": 6,
     "metadata": {},
     "output_type": "execute_result"
    }
   ],
   "source": [
    "#length of dataframe\n",
    "len(df)"
   ]
  },
  {
   "cell_type": "code",
   "execution_count": 7,
   "metadata": {},
   "outputs": [
    {
     "name": "stdout",
     "output_type": "stream",
     "text": [
      "<class 'pandas.core.frame.DataFrame'>\n",
      "RangeIndex: 519700 entries, 0 to 519699\n",
      "Data columns (total 15 columns):\n",
      "duration_sec               519700 non-null int64\n",
      "start_time                 519700 non-null object\n",
      "end_time                   519700 non-null object\n",
      "start_station_id           519700 non-null int64\n",
      "start_station_name         519700 non-null object\n",
      "start_station_latitude     519700 non-null float64\n",
      "start_station_longitude    519700 non-null float64\n",
      "end_station_id             519700 non-null int64\n",
      "end_station_name           519700 non-null object\n",
      "end_station_latitude       519700 non-null float64\n",
      "end_station_longitude      519700 non-null float64\n",
      "bike_id                    519700 non-null int64\n",
      "user_type                  519700 non-null object\n",
      "member_birth_year          453159 non-null float64\n",
      "member_gender              453238 non-null object\n",
      "dtypes: float64(5), int64(4), object(6)\n",
      "memory usage: 59.5+ MB\n"
     ]
    }
   ],
   "source": [
    "#viewing the info\n",
    "df.info()"
   ]
  },
  {
   "cell_type": "code",
   "execution_count": 8,
   "metadata": {},
   "outputs": [],
   "source": [
    "#calculating the age of the indivuals in given data frame\n",
    "df['member_age'] = 2018 - df['member_birth_year']"
   ]
  },
  {
   "cell_type": "code",
   "execution_count": 9,
   "metadata": {},
   "outputs": [
    {
     "data": {
      "text/plain": [
       "0         31.0\n",
       "1         53.0\n",
       "2          NaN\n",
       "3          NaN\n",
       "4         21.0\n",
       "5          NaN\n",
       "6         27.0\n",
       "7          NaN\n",
       "8          NaN\n",
       "9          NaN\n",
       "10         NaN\n",
       "11         NaN\n",
       "12        28.0\n",
       "13        28.0\n",
       "14         NaN\n",
       "15        38.0\n",
       "16        39.0\n",
       "17         NaN\n",
       "18        30.0\n",
       "19        47.0\n",
       "20        26.0\n",
       "21         NaN\n",
       "22        33.0\n",
       "23         NaN\n",
       "24         NaN\n",
       "25         NaN\n",
       "26         NaN\n",
       "27         NaN\n",
       "28        39.0\n",
       "29         NaN\n",
       "          ... \n",
       "519670    41.0\n",
       "519671    36.0\n",
       "519672    34.0\n",
       "519673    29.0\n",
       "519674    39.0\n",
       "519675    49.0\n",
       "519676    47.0\n",
       "519677    34.0\n",
       "519678    34.0\n",
       "519679    31.0\n",
       "519680    45.0\n",
       "519681    31.0\n",
       "519682    31.0\n",
       "519683    34.0\n",
       "519684    52.0\n",
       "519685    32.0\n",
       "519686    62.0\n",
       "519687    40.0\n",
       "519688    39.0\n",
       "519689    66.0\n",
       "519690    45.0\n",
       "519691    60.0\n",
       "519692    33.0\n",
       "519693    35.0\n",
       "519694    38.0\n",
       "519695    27.0\n",
       "519696    45.0\n",
       "519697    33.0\n",
       "519698    37.0\n",
       "519699    34.0\n",
       "Name: member_age, Length: 519700, dtype: float64"
      ]
     },
     "execution_count": 9,
     "metadata": {},
     "output_type": "execute_result"
    }
   ],
   "source": [
    "#testing\n",
    "df['member_age']"
   ]
  },
  {
   "cell_type": "markdown",
   "metadata": {},
   "source": [
    "Which age group are using the bikes? "
   ]
  },
  {
   "cell_type": "code",
   "execution_count": 10,
   "metadata": {},
   "outputs": [
    {
     "data": {
      "text/plain": [
       "Text(0.5,0,'Age')"
      ]
     },
     "execution_count": 10,
     "metadata": {},
     "output_type": "execute_result"
    },
    {
     "data": {
      "image/png": "[encoded data removed]",
      "text/plain": [
       "<Figure size 1152x720 with 1 Axes>"
      ]
     },
     "metadata": {},
     "output_type": "display_data"
    }
   ],
   "source": [
    "#plotting which ages are using bikes\n",
    "plt.figure(figsize=(16,10))\n",
    "sns.boxplot(x='member_age', data=df, palette='Blues', orient='h')\n",
    "plt.title(\"Age group using Bike\", fontsize=25, y=1.1)\n",
    "plt.xlabel(\"Age\", fontsize=20, labelpad=10)"
   ]
  },
  {
   "cell_type": "markdown",
   "metadata": {},
   "source": [
    "\n",
    "Age between 20 to 60 are using the bike.we can go ahead and remove the data with more than 60 years."
   ]
  },
  {
   "cell_type": "code",
   "execution_count": null,
   "metadata": {},
   "outputs": [],
   "source": [
    "Total number of minutes in bike ride"
   ]
  },
  {
   "cell_type": "code",
   "execution_count": 12,
   "metadata": {},
   "outputs": [
    {
     "data": {
      "text/plain": [
       "Text(0.5,0,'duration in minutes')"
      ]
     },
     "execution_count": 12,
     "metadata": {},
     "output_type": "execute_result"
    },
    {
     "data": {
      "image/png": "[encoded data removed]",
      "text/plain": [
       "<Figure size 1152x720 with 1 Axes>"
      ]
     },
     "metadata": {},
     "output_type": "display_data"
    }
   ],
   "source": [
    "#plotting which member_group are using bikes\n",
    "plt.figure(figsize=(16,10))\n",
    "df['duration_min'] = df['duration_sec']/60\n",
    "#df['duration_min'].plot('bar',figsize=(12,8),color='navy')\n",
    "sns.boxplot(df.duration_min)\n",
    "#sns.countplot(x='duration_min', data=df, palette='Blues', orient='h')\n",
    "plt.title(\" Duration of bike ride using Bike\", fontsize=25, y=1.1)\n",
    "plt.xlabel(\"duration in minutes\", fontsize=20, labelpad=10)"
   ]
  },
  {
   "cell_type": "code",
   "execution_count": null,
   "metadata": {},
   "outputs": [],
   "source": [
    "1400 minutes are the total bike ride"
   ]
  },
  {
   "cell_type": "code",
   "execution_count": 75,
   "metadata": {},
   "outputs": [],
   "source": [
    "#having only age <60\n",
    "df = df[df['member_age']<60]"
   ]
  },
  {
   "cell_type": "code",
   "execution_count": 76,
   "metadata": {},
   "outputs": [
    {
     "data": {
      "text/plain": [
       "36.5353645191863"
      ]
     },
     "execution_count": 76,
     "metadata": {},
     "output_type": "execute_result"
    }
   ],
   "source": [
    "#finding the average age of bike rider\n",
    "df['member_age'].mean()"
   ]
  },
  {
   "cell_type": "code",
   "execution_count": null,
   "metadata": {},
   "outputs": [],
   "source": []
  },
  {
   "cell_type": "markdown",
   "metadata": {},
   "source": [
    "we will only consider the data within SFO"
   ]
  },
  {
   "cell_type": "code",
   "execution_count": 86,
   "metadata": {},
   "outputs": [],
   "source": [
    "\n",
    "max_longitude_sfo = -122.3597\n",
    "min_longitude_sfo = -122.5147\n",
    "max_latitude_sfo = 37.8121\n",
    "min_latitude_sfo = 37.7092"
   ]
  },
  {
   "cell_type": "code",
   "execution_count": 88,
   "metadata": {},
   "outputs": [],
   "source": [
    "end_station_latitude_sfo = (df['end_station_latitude']>=min_latitude_sfo) & (df['end_station_latitude']<=max_latitude_sfo)\n",
    "start_station_latitude_sfo = (df['start_station_latitude']>=min_latitude_sfo) & (df['start_station_latitude']<=max_latitude_sfo)\n"
   ]
  },
  {
   "cell_type": "code",
   "execution_count": 91,
   "metadata": {},
   "outputs": [],
   "source": [
    "end_station_longitude_sfo =(df['end_station_longitude']>=min_longitude_sfo) & (df['end_station_longitude']<=max_longitude_sfo)\n",
    "start_station_longitude_sfo = (df['start_station_longitude']>=min_longitude_sfo) & (df['start_station_longitude']<=max_longitude_sfo)"
   ]
  },
  {
   "cell_type": "code",
   "execution_count": 92,
   "metadata": {},
   "outputs": [],
   "source": [
    "df = df[end_station_latitude_sfo & start_station_latitude_sfo & end_station_longitude_sfo & start_station_longitude_sfo]"
   ]
  },
  {
   "cell_type": "code",
   "execution_count": 93,
   "metadata": {},
   "outputs": [
    {
     "data": {
      "text/plain": [
       "345063"
      ]
     },
     "execution_count": 93,
     "metadata": {},
     "output_type": "execute_result"
    }
   ],
   "source": [
    "len(df)"
   ]
  },
  {
   "cell_type": "markdown",
   "metadata": {},
   "source": [
    "Now the size of dataframe is 345063"
   ]
  },
  {
   "cell_type": "code",
   "execution_count": 94,
   "metadata": {},
   "outputs": [],
   "source": [
    "#Converting secs to mints\n",
    "df['duration_min'] = df['duration_sec']/60"
   ]
  },
  {
   "cell_type": "markdown",
   "metadata": {},
   "source": [
    "#generating different fields"
   ]
  },
  {
   "cell_type": "code",
   "execution_count": 95,
   "metadata": {},
   "outputs": [],
   "source": [
    "df['start_time']=pd.to_datetime(df['start_time'])\n",
    "df['end_time']=pd.to_datetime(df['end_time'])"
   ]
  },
  {
   "cell_type": "code",
   "execution_count": 96,
   "metadata": {},
   "outputs": [],
   "source": [
    "df['start_time_date']=df['start_time'].dt.date\n",
    "df['end_time_date']=df['end_time'].dt.date"
   ]
  },
  {
   "cell_type": "code",
   "execution_count": 97,
   "metadata": {},
   "outputs": [],
   "source": [
    "df['start_time_year_month']=df['start_time'].map(lambda x: x.strftime('%Y-%m'))\n",
    "df['end_time_year_month']=df['end_time'].map(lambda x: x.strftime('%Y-%m'))"
   ]
  },
  {
   "cell_type": "code",
   "execution_count": 98,
   "metadata": {},
   "outputs": [],
   "source": [
    "df['start_time_year_month_renamed'] = df['start_time'].dt.strftime('%y' + '-' + '%m')\n"
   ]
  },
  {
   "cell_type": "code",
   "execution_count": 99,
   "metadata": {},
   "outputs": [],
   "source": [
    "df['start_time_year']=df['start_time'].dt.year.astype(int)\n",
    "df['end_time_year']=df['end_time'].dt.year.astype(int)\n"
   ]
  },
  {
   "cell_type": "code",
   "execution_count": 100,
   "metadata": {},
   "outputs": [],
   "source": [
    "df['start_time_month']=df['start_time'].dt.month.astype(int)\n",
    "df['end_time_month']=df['end_time'].dt.month.astype(int)"
   ]
  },
  {
   "cell_type": "code",
   "execution_count": 101,
   "metadata": {},
   "outputs": [],
   "source": [
    "df['start_time_hour_minute']=df['start_time'].map(lambda x: x.strftime('%H-%m'))\n",
    "df['end_time_hour_minute']=df['end_time'].map(lambda x: x.strftime('%H-%m'))"
   ]
  },
  {
   "cell_type": "code",
   "execution_count": 102,
   "metadata": {},
   "outputs": [],
   "source": [
    "df['start_time_hour']=df['start_time'].dt.hour\n",
    "df['end_time_hour']=df['end_time'].dt.hour"
   ]
  },
  {
   "cell_type": "code",
   "execution_count": 103,
   "metadata": {},
   "outputs": [],
   "source": [
    "df['start_time_weekday']=df['start_time'].dt.weekday_name\n",
    "df['end_time_weekday']=df['end_time'].dt.weekday_name"
   ]
  },
  {
   "cell_type": "code",
   "execution_count": 107,
   "metadata": {},
   "outputs": [],
   "source": [
    "df['start_time_weekday_abbr']=df['start_time'].dt.weekday.apply(lambda x: calendar.day_abbr[x])\n",
    "df['end_time_weekday_abbr']=df['end_time'].dt.weekday.apply(lambda x: calendar.day_abbr[x])\n"
   ]
  },
  {
   "cell_type": "code",
   "execution_count": null,
   "metadata": {},
   "outputs": [],
   "source": [
    "#count of bike ride per day\n"
   ]
  },
  {
   "cell_type": "code",
   "execution_count": 108,
   "metadata": {},
   "outputs": [],
   "source": [
    "number_of_rides = df.groupby('start_time_year_month_renamed')['bike_id'].size().reset_index()"
   ]
  },
  {
   "cell_type": "code",
   "execution_count": 109,
   "metadata": {},
   "outputs": [
    {
     "data": {
      "text/html": [
       "<div>\n",
       "<style scoped>\n",
       "    .dataframe tbody tr th:only-of-type {\n",
       "        vertical-align: middle;\n",
       "    }\n",
       "\n",
       "    .dataframe tbody tr th {\n",
       "        vertical-align: top;\n",
       "    }\n",
       "\n",
       "    .dataframe thead th {\n",
       "        text-align: right;\n",
       "    }\n",
       "</style>\n",
       "<table border=\"1\" class=\"dataframe\">\n",
       "  <thead>\n",
       "    <tr style=\"text-align: right;\">\n",
       "      <th></th>\n",
       "      <th>start_time_year_month_renamed</th>\n",
       "      <th>bike_id</th>\n",
       "    </tr>\n",
       "  </thead>\n",
       "  <tbody>\n",
       "    <tr>\n",
       "      <th>0</th>\n",
       "      <td>17-06</td>\n",
       "      <td>2252</td>\n",
       "    </tr>\n",
       "    <tr>\n",
       "      <th>1</th>\n",
       "      <td>17-07</td>\n",
       "      <td>29435</td>\n",
       "    </tr>\n",
       "    <tr>\n",
       "      <th>2</th>\n",
       "      <td>17-08</td>\n",
       "      <td>53544</td>\n",
       "    </tr>\n",
       "    <tr>\n",
       "      <th>3</th>\n",
       "      <td>17-09</td>\n",
       "      <td>65512</td>\n",
       "    </tr>\n",
       "    <tr>\n",
       "      <th>4</th>\n",
       "      <td>17-10</td>\n",
       "      <td>72503</td>\n",
       "    </tr>\n",
       "    <tr>\n",
       "      <th>5</th>\n",
       "      <td>17-11</td>\n",
       "      <td>64410</td>\n",
       "    </tr>\n",
       "    <tr>\n",
       "      <th>6</th>\n",
       "      <td>17-12</td>\n",
       "      <td>57407</td>\n",
       "    </tr>\n",
       "  </tbody>\n",
       "</table>\n",
       "</div>"
      ],
      "text/plain": [
       "  start_time_year_month_renamed  bike_id\n",
       "0                         17-06     2252\n",
       "1                         17-07    29435\n",
       "2                         17-08    53544\n",
       "3                         17-09    65512\n",
       "4                         17-10    72503\n",
       "5                         17-11    64410\n",
       "6                         17-12    57407"
      ]
     },
     "execution_count": 109,
     "metadata": {},
     "output_type": "execute_result"
    }
   ],
   "source": [
    "number_of_rides"
   ]
  },
  {
   "cell_type": "code",
   "execution_count": 118,
   "metadata": {},
   "outputs": [],
   "source": [
    "#grouping month and year with bike_id\n",
    "number_of_unique_riders = df.groupby('start_time_year_month_renamed')['bike_id'].nunique().reset_index().rename(columns={'bike_id':'unique_bike_id'})"
   ]
  },
  {
   "cell_type": "code",
   "execution_count": 119,
   "metadata": {},
   "outputs": [
    {
     "data": {
      "text/html": [
       "<div>\n",
       "<style scoped>\n",
       "    .dataframe tbody tr th:only-of-type {\n",
       "        vertical-align: middle;\n",
       "    }\n",
       "\n",
       "    .dataframe tbody tr th {\n",
       "        vertical-align: top;\n",
       "    }\n",
       "\n",
       "    .dataframe thead th {\n",
       "        text-align: right;\n",
       "    }\n",
       "</style>\n",
       "<table border=\"1\" class=\"dataframe\">\n",
       "  <thead>\n",
       "    <tr style=\"text-align: right;\">\n",
       "      <th></th>\n",
       "      <th>start_time_year_month_renamed</th>\n",
       "      <th>unique_bike_id</th>\n",
       "    </tr>\n",
       "  </thead>\n",
       "  <tbody>\n",
       "    <tr>\n",
       "      <th>0</th>\n",
       "      <td>17-06</td>\n",
       "      <td>507</td>\n",
       "    </tr>\n",
       "    <tr>\n",
       "      <th>1</th>\n",
       "      <td>17-07</td>\n",
       "      <td>1106</td>\n",
       "    </tr>\n",
       "    <tr>\n",
       "      <th>2</th>\n",
       "      <td>17-08</td>\n",
       "      <td>1482</td>\n",
       "    </tr>\n",
       "    <tr>\n",
       "      <th>3</th>\n",
       "      <td>17-09</td>\n",
       "      <td>1615</td>\n",
       "    </tr>\n",
       "    <tr>\n",
       "      <th>4</th>\n",
       "      <td>17-10</td>\n",
       "      <td>1553</td>\n",
       "    </tr>\n",
       "    <tr>\n",
       "      <th>5</th>\n",
       "      <td>17-11</td>\n",
       "      <td>1503</td>\n",
       "    </tr>\n",
       "    <tr>\n",
       "      <th>6</th>\n",
       "      <td>17-12</td>\n",
       "      <td>1623</td>\n",
       "    </tr>\n",
       "  </tbody>\n",
       "</table>\n",
       "</div>"
      ],
      "text/plain": [
       "  start_time_year_month_renamed  unique_bike_id\n",
       "0                         17-06             507\n",
       "1                         17-07            1106\n",
       "2                         17-08            1482\n",
       "3                         17-09            1615\n",
       "4                         17-10            1553\n",
       "5                         17-11            1503\n",
       "6                         17-12            1623"
      ]
     },
     "execution_count": 119,
     "metadata": {},
     "output_type": "execute_result"
    }
   ],
   "source": [
    "number_of_unique_riders"
   ]
  },
  {
   "cell_type": "code",
   "execution_count": 120,
   "metadata": {},
   "outputs": [],
   "source": [
    "#merging number of bike_id for each month/year\n",
    "number_of_rides_df = number_of_rides.merge(number_of_unique_riders, on='start_time_year_month_renamed')"
   ]
  },
  {
   "cell_type": "code",
   "execution_count": 121,
   "metadata": {},
   "outputs": [],
   "source": [
    "#getting number of  bike_id \n",
    "number_of_rides_df['number_of_used'] = number_of_rides_df['bike_id']/number_of_rides_df['unique_bike_id']\n"
   ]
  },
  {
   "cell_type": "code",
   "execution_count": 122,
   "metadata": {},
   "outputs": [],
   "source": [
    "July2017_avg_num_bike_used_per_day = (number_of_rides_df[number_of_rides_df['start_time_year_month_renamed']=='17-07']['number_of_used'].mean())/31\n"
   ]
  },
  {
   "cell_type": "code",
   "execution_count": 126,
   "metadata": {},
   "outputs": [],
   "source": [
    "#July2018_avg_num_bike_used_per_day = (number_of_rides_df[number_of_rides_df['start_time_year_month_renamed']=='18-07']['number_of_used'].mean())/31\n"
   ]
  },
  {
   "cell_type": "code",
   "execution_count": 128,
   "metadata": {},
   "outputs": [
    {
     "name": "stdout",
     "output_type": "stream",
     "text": [
      "0.8585136790526745\n"
     ]
    }
   ],
   "source": [
    "print(July2017_avg_num_bike_used_per_day)"
   ]
  },
  {
   "cell_type": "markdown",
   "metadata": {},
   "source": [
    "average number bike rides in  2017 is 0.85"
   ]
  },
  {
   "cell_type": "code",
   "execution_count": null,
   "metadata": {},
   "outputs": [],
   "source": [
    "#Number of bike rides in the year of 2017 with age groups "
   ]
  },
  {
   "cell_type": "code",
   "execution_count": 130,
   "metadata": {},
   "outputs": [],
   "source": [
    "#creating groupd for different age groups\n",
    "df['member_age_groups'] = df['member_age'].apply(lambda x: '10 - 20' if 10<x<=20\n",
    "                                                  else '20 - 30' if 20<x<=30\n",
    "                                                  else '30 - 40' if 30<x<=40\n",
    "                                                  else '40 - 50' if 40<x<=50\n",
    "                                                  else '50 - 60' if 50<x<=60\n",
    "                                                  else x)\n"
   ]
  },
  {
   "cell_type": "code",
   "execution_count": 138,
   "metadata": {},
   "outputs": [
    {
     "data": {
      "image/png": "[encoded data removed]",
      "text/plain": [
       "<Figure size 1008x576 with 1 Axes>"
      ]
     },
     "metadata": {},
     "output_type": "display_data"
    }
   ],
   "source": [
    "plt.figure(figsize=(14,8))\n",
    "my_palette = {'20 - 30': 'deepskyblue', '30 - 40': 'navy', '40 - 50': 'lightgrey'}\n",
    "graph = sns.countplot(x='start_time_year_month_renamed', hue='member_age_groups', palette=my_palette, data=df[df['member_age_bins'].isin(['20 - 30', '30 - 40', '40 - 50'])].sort_values(by=['start_time_year_month_renamed', 'member_age_groups']))\n",
    "plt.title('The monthly trend of bike rides for 20 to 40 years olds', fontsize=22, y=1.015)\n",
    "plt.xlabel('year-month', labelpad=16)\n",
    "plt.ylabel('count [rides]', labelpad=16)\n",
    "leg = ax.legend()\n",
    "leg.set_title('Member age group',prop={'size':16})\n",
    "graph = plt.gca()\n"
   ]
  },
  {
   "cell_type": "markdown",
   "metadata": {},
   "source": [
    "From the above we can say that the age group between 30 to 40 are using bike more in the month of october."
   ]
  },
  {
   "cell_type": "code",
   "execution_count": null,
   "metadata": {},
   "outputs": [],
   "source": [
    "Which month of the year is having more bike rides?"
   ]
  },
  {
   "cell_type": "code",
   "execution_count": 142,
   "metadata": {},
   "outputs": [
    {
     "data": {
      "image/png": "[encoded data removed]",
      "text/plain": [
       "<Figure size 1008x576 with 1 Axes>"
      ]
     },
     "metadata": {},
     "output_type": "display_data"
    }
   ],
   "source": [
    "#number of rides per month\n",
    "plt.figure(figsize=(14,8))\n",
    "sns.countplot(x='start_time_year_month_renamed', palette=\"Blues\", data=df.sort_values(by='start_time_year_month_renamed'))\n",
    "plt.title('The monthly trend of bike rides', fontsize=22, y=1.015)\n",
    "plt.xlabel('year-month', labelpad=16)\n",
    "plt.ylabel('count [rides]', labelpad=16)\n",
    "ax = plt.gca()\n"
   ]
  },
  {
   "cell_type": "code",
   "execution_count": null,
   "metadata": {},
   "outputs": [],
   "source": [
    "October month is having more bike rides"
   ]
  },
  {
   "cell_type": "markdown",
   "metadata": {},
   "source": [
    "#Bike rides percentage per age group?"
   ]
  },
  {
   "cell_type": "code",
   "execution_count": 143,
   "metadata": {},
   "outputs": [],
   "source": [
    "#grouping age_group with bike_id\n",
    "ridebyage = df.groupby('member_age_groups').agg({'bike_id':'count'})"
   ]
  },
  {
   "cell_type": "code",
   "execution_count": 153,
   "metadata": {},
   "outputs": [
    {
     "data": {
      "text/html": [
       "<div>\n",
       "<style scoped>\n",
       "    .dataframe tbody tr th:only-of-type {\n",
       "        vertical-align: middle;\n",
       "    }\n",
       "\n",
       "    .dataframe tbody tr th {\n",
       "        vertical-align: top;\n",
       "    }\n",
       "\n",
       "    .dataframe thead th {\n",
       "        text-align: right;\n",
       "    }\n",
       "</style>\n",
       "<table border=\"1\" class=\"dataframe\">\n",
       "  <thead>\n",
       "    <tr style=\"text-align: right;\">\n",
       "      <th></th>\n",
       "      <th>bike_id</th>\n",
       "      <th>percentage</th>\n",
       "    </tr>\n",
       "    <tr>\n",
       "      <th>member_age_groups</th>\n",
       "      <th></th>\n",
       "      <th></th>\n",
       "    </tr>\n",
       "  </thead>\n",
       "  <tbody>\n",
       "    <tr>\n",
       "      <th>10 - 20</th>\n",
       "      <td>1343</td>\n",
       "      <td>0.389204</td>\n",
       "    </tr>\n",
       "    <tr>\n",
       "      <th>20 - 30</th>\n",
       "      <td>91216</td>\n",
       "      <td>26.434593</td>\n",
       "    </tr>\n",
       "    <tr>\n",
       "      <th>30 - 40</th>\n",
       "      <td>145270</td>\n",
       "      <td>42.099559</td>\n",
       "    </tr>\n",
       "    <tr>\n",
       "      <th>40 - 50</th>\n",
       "      <td>72189</td>\n",
       "      <td>20.920528</td>\n",
       "    </tr>\n",
       "    <tr>\n",
       "      <th>50 - 60</th>\n",
       "      <td>35045</td>\n",
       "      <td>10.156116</td>\n",
       "    </tr>\n",
       "  </tbody>\n",
       "</table>\n",
       "</div>"
      ],
      "text/plain": [
       "                   bike_id  percentage\n",
       "member_age_groups                     \n",
       "10 - 20               1343    0.389204\n",
       "20 - 30              91216   26.434593\n",
       "30 - 40             145270   42.099559\n",
       "40 - 50              72189   20.920528\n",
       "50 - 60              35045   10.156116"
      ]
     },
     "execution_count": 153,
     "metadata": {},
     "output_type": "execute_result"
    }
   ],
   "source": [
    "ridebyage"
   ]
  },
  {
   "cell_type": "code",
   "execution_count": 144,
   "metadata": {},
   "outputs": [],
   "source": [
    "#calculating the percentage of riders\n",
    "ridebyage['percentage'] = ridebyage['bike_id']/ridebyage['bike_id'].sum()*100"
   ]
  },
  {
   "cell_type": "raw",
   "metadata": {},
   "source": []
  },
  {
   "cell_type": "code",
   "execution_count": 172,
   "metadata": {},
   "outputs": [
    {
     "data": {
      "text/plain": [
       "Text(0,0.5,'pecentage(%) [rides]')"
      ]
     },
     "execution_count": 172,
     "metadata": {},
     "output_type": "execute_result"
    },
    {
     "data": {
      "image/png": "[encoded data removed]",
      "text/plain": [
       "<Figure size 864x576 with 1 Axes>"
      ]
     },
     "metadata": {},
     "output_type": "display_data"
    }
   ],
   "source": [
    "#plotting age versus percentage of riders\n",
    "ridebyage['percentage'].plot('bar', color='navy',figsize=(12,8))\n",
    "plt.title('Percentage of all bike rides per age group', fontsize=22, y=1.015)\n",
    "plt.xlabel('member age group', labelpad=16)\n",
    "plt.ylabel('pecentage(%) [rides]', labelpad=16)"
   ]
  },
  {
   "cell_type": "code",
   "execution_count": null,
   "metadata": {},
   "outputs": [],
   "source": [
    "30-40 age group is using more bikes"
   ]
  },
  {
   "cell_type": "markdown",
   "metadata": {},
   "source": [
    "#Bike rides per gender?"
   ]
  },
  {
   "cell_type": "code",
   "execution_count": 156,
   "metadata": {},
   "outputs": [],
   "source": [
    "#grouping bikeid by gender\n",
    "\n",
    "gendergroup = df.groupby('member_gender').agg({'bike_id':'count'})\n"
   ]
  },
  {
   "cell_type": "code",
   "execution_count": 158,
   "metadata": {},
   "outputs": [
    {
     "data": {
      "text/html": [
       "<div>\n",
       "<style scoped>\n",
       "    .dataframe tbody tr th:only-of-type {\n",
       "        vertical-align: middle;\n",
       "    }\n",
       "\n",
       "    .dataframe tbody tr th {\n",
       "        vertical-align: top;\n",
       "    }\n",
       "\n",
       "    .dataframe thead th {\n",
       "        text-align: right;\n",
       "    }\n",
       "</style>\n",
       "<table border=\"1\" class=\"dataframe\">\n",
       "  <thead>\n",
       "    <tr style=\"text-align: right;\">\n",
       "      <th></th>\n",
       "      <th>bike_id</th>\n",
       "    </tr>\n",
       "    <tr>\n",
       "      <th>member_gender</th>\n",
       "      <th></th>\n",
       "    </tr>\n",
       "  </thead>\n",
       "  <tbody>\n",
       "    <tr>\n",
       "      <th>Female</th>\n",
       "      <td>71855</td>\n",
       "    </tr>\n",
       "    <tr>\n",
       "      <th>Male</th>\n",
       "      <td>269328</td>\n",
       "    </tr>\n",
       "    <tr>\n",
       "      <th>Other</th>\n",
       "      <td>3880</td>\n",
       "    </tr>\n",
       "  </tbody>\n",
       "</table>\n",
       "</div>"
      ],
      "text/plain": [
       "               bike_id\n",
       "member_gender         \n",
       "Female           71855\n",
       "Male            269328\n",
       "Other             3880"
      ]
     },
     "execution_count": 158,
     "metadata": {},
     "output_type": "execute_result"
    }
   ],
   "source": [
    "gendergroup"
   ]
  },
  {
   "cell_type": "code",
   "execution_count": 159,
   "metadata": {},
   "outputs": [],
   "source": [
    "#getting percentage of gendergroup\n",
    "gendergroup['percentage'] = gendergroup['bike_id']/gendergroup['bike_id'].sum()*100"
   ]
  },
  {
   "cell_type": "code",
   "execution_count": 164,
   "metadata": {},
   "outputs": [
    {
     "data": {
      "text/plain": [
       "member_gender\n",
       "Female    20.823734\n",
       "Male      78.051834\n",
       "Other      1.124432\n",
       "Name: percentage, dtype: float64"
      ]
     },
     "execution_count": 164,
     "metadata": {},
     "output_type": "execute_result"
    }
   ],
   "source": [
    "gendergroup['percentage']"
   ]
  },
  {
   "cell_type": "code",
   "execution_count": 171,
   "metadata": {},
   "outputs": [
    {
     "data": {
      "text/plain": [
       "Text(0.5,0,'pecentage(%) [rides]')"
      ]
     },
     "execution_count": 171,
     "metadata": {},
     "output_type": "execute_result"
    },
    {
     "data": {
      "image/png": "[encoded data removed]",
      "text/plain": [
       "<Figure size 864x576 with 1 Axes>"
      ]
     },
     "metadata": {},
     "output_type": "display_data"
    }
   ],
   "source": [
    "gendergroup['percentage'].plot('bar',figsize=(12,8),color='navy')\n",
    "plt.title('Percentage of all bike rides per gender', fontsize=22, y=1.015)\n",
    "plt.ylabel('member gender', labelpad=16)\n",
    "plt.xlabel('pecentage(%) [rides]', labelpad=16)"
   ]
  },
  {
   "cell_type": "markdown",
   "metadata": {},
   "source": [
    "76% of male's are riding bikes,only 22% of female's are riding bikes.\n",
    "others are only 2% are riding bike"
   ]
  },
  {
   "cell_type": "markdown",
   "metadata": {},
   "source": [
    "Bikes used in  week day?"
   ]
  },
  {
   "cell_type": "code",
   "execution_count": 173,
   "metadata": {},
   "outputs": [],
   "source": [
    "#grouping bike_id's with weekdays\n",
    "tripin_weekday = df.groupby('start_time_weekday_abbr').agg({'bike_id':'count'})"
   ]
  },
  {
   "cell_type": "code",
   "execution_count": 175,
   "metadata": {},
   "outputs": [],
   "source": [
    "#calculating percentage on each day\n",
    "tripin_weekday['percentage'] = tripin_weekday['bike_id']/tripin_weekday['bike_id'].sum()*100"
   ]
  },
  {
   "cell_type": "code",
   "execution_count": 182,
   "metadata": {},
   "outputs": [],
   "source": [
    "weekday=['Mon', 'Tue', 'Wed', 'Thu', 'Fri', 'Sat', 'Sun']"
   ]
  },
  {
   "cell_type": "code",
   "execution_count": 184,
   "metadata": {},
   "outputs": [
    {
     "data": {
      "text/plain": [
       "Text(0,0.5,'percentage(%) [rides]')"
      ]
     },
     "execution_count": 184,
     "metadata": {},
     "output_type": "execute_result"
    },
    {
     "data": {
      "image/png": "[encoded data removed]",
      "text/plain": [
       "<Figure size 864x576 with 1 Axes>"
      ]
     },
     "metadata": {},
     "output_type": "display_data"
    }
   ],
   "source": [
    "tripin_weekday.reindex(weekday)['percentage'].plot('bar',figsize=(12,8),color='navy')\n",
    "plt.title('Percentage of all bike rides in  weekday', fontsize=22, y=1.015)\n",
    "plt.xlabel('weekday', labelpad=16)\n",
    "plt.ylabel('percentage(%) [rides]', labelpad=16)"
   ]
  },
  {
   "cell_type": "markdown",
   "metadata": {},
   "source": [
    "Tuesdays and wednesday bike rides are more"
   ]
  },
  {
   "cell_type": "markdown",
   "metadata": {},
   "source": [
    "Number of bike rides per day?"
   ]
  },
  {
   "cell_type": "code",
   "execution_count": 198,
   "metadata": {},
   "outputs": [],
   "source": [
    "#grouping time_hour with bike_id\n",
    "rides_per = df.groupby('start_time_hour').agg({'bike_id':'count'})"
   ]
  },
  {
   "cell_type": "code",
   "execution_count": 199,
   "metadata": {},
   "outputs": [
    {
     "data": {
      "text/html": [
       "<div>\n",
       "<style scoped>\n",
       "    .dataframe tbody tr th:only-of-type {\n",
       "        vertical-align: middle;\n",
       "    }\n",
       "\n",
       "    .dataframe tbody tr th {\n",
       "        vertical-align: top;\n",
       "    }\n",
       "\n",
       "    .dataframe thead th {\n",
       "        text-align: right;\n",
       "    }\n",
       "</style>\n",
       "<table border=\"1\" class=\"dataframe\">\n",
       "  <thead>\n",
       "    <tr style=\"text-align: right;\">\n",
       "      <th></th>\n",
       "      <th>bike_id</th>\n",
       "    </tr>\n",
       "    <tr>\n",
       "      <th>start_time_hour</th>\n",
       "      <th></th>\n",
       "    </tr>\n",
       "  </thead>\n",
       "  <tbody>\n",
       "    <tr>\n",
       "      <th>0</th>\n",
       "      <td>1299</td>\n",
       "    </tr>\n",
       "    <tr>\n",
       "      <th>1</th>\n",
       "      <td>695</td>\n",
       "    </tr>\n",
       "    <tr>\n",
       "      <th>2</th>\n",
       "      <td>393</td>\n",
       "    </tr>\n",
       "    <tr>\n",
       "      <th>3</th>\n",
       "      <td>168</td>\n",
       "    </tr>\n",
       "    <tr>\n",
       "      <th>4</th>\n",
       "      <td>277</td>\n",
       "    </tr>\n",
       "    <tr>\n",
       "      <th>5</th>\n",
       "      <td>1339</td>\n",
       "    </tr>\n",
       "    <tr>\n",
       "      <th>6</th>\n",
       "      <td>6322</td>\n",
       "    </tr>\n",
       "    <tr>\n",
       "      <th>7</th>\n",
       "      <td>19855</td>\n",
       "    </tr>\n",
       "    <tr>\n",
       "      <th>8</th>\n",
       "      <td>44810</td>\n",
       "    </tr>\n",
       "    <tr>\n",
       "      <th>9</th>\n",
       "      <td>34747</td>\n",
       "    </tr>\n",
       "    <tr>\n",
       "      <th>10</th>\n",
       "      <td>15847</td>\n",
       "    </tr>\n",
       "    <tr>\n",
       "      <th>11</th>\n",
       "      <td>14039</td>\n",
       "    </tr>\n",
       "    <tr>\n",
       "      <th>12</th>\n",
       "      <td>15806</td>\n",
       "    </tr>\n",
       "    <tr>\n",
       "      <th>13</th>\n",
       "      <td>15313</td>\n",
       "    </tr>\n",
       "    <tr>\n",
       "      <th>14</th>\n",
       "      <td>13488</td>\n",
       "    </tr>\n",
       "    <tr>\n",
       "      <th>15</th>\n",
       "      <td>16736</td>\n",
       "    </tr>\n",
       "    <tr>\n",
       "      <th>16</th>\n",
       "      <td>27871</td>\n",
       "    </tr>\n",
       "    <tr>\n",
       "      <th>17</th>\n",
       "      <td>43558</td>\n",
       "    </tr>\n",
       "    <tr>\n",
       "      <th>18</th>\n",
       "      <td>31581</td>\n",
       "    </tr>\n",
       "    <tr>\n",
       "      <th>19</th>\n",
       "      <td>16889</td>\n",
       "    </tr>\n",
       "    <tr>\n",
       "      <th>20</th>\n",
       "      <td>10141</td>\n",
       "    </tr>\n",
       "    <tr>\n",
       "      <th>21</th>\n",
       "      <td>6966</td>\n",
       "    </tr>\n",
       "    <tr>\n",
       "      <th>22</th>\n",
       "      <td>4448</td>\n",
       "    </tr>\n",
       "    <tr>\n",
       "      <th>23</th>\n",
       "      <td>2475</td>\n",
       "    </tr>\n",
       "  </tbody>\n",
       "</table>\n",
       "</div>"
      ],
      "text/plain": [
       "                 bike_id\n",
       "start_time_hour         \n",
       "0                   1299\n",
       "1                    695\n",
       "2                    393\n",
       "3                    168\n",
       "4                    277\n",
       "5                   1339\n",
       "6                   6322\n",
       "7                  19855\n",
       "8                  44810\n",
       "9                  34747\n",
       "10                 15847\n",
       "11                 14039\n",
       "12                 15806\n",
       "13                 15313\n",
       "14                 13488\n",
       "15                 16736\n",
       "16                 27871\n",
       "17                 43558\n",
       "18                 31581\n",
       "19                 16889\n",
       "20                 10141\n",
       "21                  6966\n",
       "22                  4448\n",
       "23                  2475"
      ]
     },
     "execution_count": 199,
     "metadata": {},
     "output_type": "execute_result"
    }
   ],
   "source": [
    "rides_per"
   ]
  },
  {
   "cell_type": "code",
   "execution_count": 195,
   "metadata": {},
   "outputs": [],
   "source": [
    "#getting of percenatge of bike_id\n",
    "rides_per_day['bike_id'] = rides_per_day['bike_id']/rides_per_day['bike_id'].sum()*100"
   ]
  },
  {
   "cell_type": "code",
   "execution_count": 200,
   "metadata": {},
   "outputs": [
    {
     "data": {
      "text/plain": [
       "start_time_hour\n",
       "0      0.376453\n",
       "1      0.201412\n",
       "2      0.113892\n",
       "3      0.048687\n",
       "4      0.080275\n",
       "5      0.388045\n",
       "6      1.832129\n",
       "7      5.754022\n",
       "8     12.986034\n",
       "9     10.069755\n",
       "10     4.592495\n",
       "11     4.068532\n",
       "12     4.580613\n",
       "13     4.437740\n",
       "14     3.908851\n",
       "15     4.850129\n",
       "16     8.077076\n",
       "17    12.623202\n",
       "18     9.152242\n",
       "19     4.894469\n",
       "20     2.938884\n",
       "21     2.018762\n",
       "22     1.289040\n",
       "23     0.717260\n",
       "Name: bike_id, dtype: float64"
      ]
     },
     "execution_count": 200,
     "metadata": {},
     "output_type": "execute_result"
    }
   ],
   "source": [
    "rides_per_day['bike_id']"
   ]
  },
  {
   "cell_type": "code",
   "execution_count": 196,
   "metadata": {},
   "outputs": [
    {
     "data": {
      "text/plain": [
       "Text(0,0.5,'percentage(%) [rides]')"
      ]
     },
     "execution_count": 196,
     "metadata": {},
     "output_type": "execute_result"
    },
    {
     "data": {
      "image/png": "[encoded data removed]",
      "text/plain": [
       "<Figure size 864x576 with 1 Axes>"
      ]
     },
     "metadata": {},
     "output_type": "display_data"
    }
   ],
   "source": [
    "rides_per_day['bike_id'].plot('line',figsize=(12,8),color='navy')\n",
    "plt.title('Percentage of all bike rides by hour of the day', fontsize=22, y=1.015)\n",
    "plt.xlabel('hour [day]', labelpad=16)\n",
    "plt.ylabel('percentage(%) [rides]', labelpad=16)"
   ]
  },
  {
   "cell_type": "code",
   "execution_count": null,
   "metadata": {},
   "outputs": [],
   "source": [
    "8 A.M and 5 P.M are busy hours"
   ]
  },
  {
   "cell_type": "code",
   "execution_count": null,
   "metadata": {},
   "outputs": [],
   "source": [
    "#Number of user that are subcribers and customer?"
   ]
  },
  {
   "cell_type": "code",
   "execution_count": 204,
   "metadata": {},
   "outputs": [],
   "source": [
    "#grouping user_type\n",
    "numberof_user = df.groupby('user_type').size().reset_index(name='count')"
   ]
  },
  {
   "cell_type": "code",
   "execution_count": 205,
   "metadata": {},
   "outputs": [
    {
     "data": {
      "text/html": [
       "<div>\n",
       "<style scoped>\n",
       "    .dataframe tbody tr th:only-of-type {\n",
       "        vertical-align: middle;\n",
       "    }\n",
       "\n",
       "    .dataframe tbody tr th {\n",
       "        vertical-align: top;\n",
       "    }\n",
       "\n",
       "    .dataframe thead th {\n",
       "        text-align: right;\n",
       "    }\n",
       "</style>\n",
       "<table border=\"1\" class=\"dataframe\">\n",
       "  <thead>\n",
       "    <tr style=\"text-align: right;\">\n",
       "      <th></th>\n",
       "      <th>user_type</th>\n",
       "      <th>count</th>\n",
       "    </tr>\n",
       "  </thead>\n",
       "  <tbody>\n",
       "    <tr>\n",
       "      <th>0</th>\n",
       "      <td>Customer</td>\n",
       "      <td>37461</td>\n",
       "    </tr>\n",
       "    <tr>\n",
       "      <th>1</th>\n",
       "      <td>Subscriber</td>\n",
       "      <td>307602</td>\n",
       "    </tr>\n",
       "  </tbody>\n",
       "</table>\n",
       "</div>"
      ],
      "text/plain": [
       "    user_type   count\n",
       "0    Customer   37461\n",
       "1  Subscriber  307602"
      ]
     },
     "execution_count": 205,
     "metadata": {},
     "output_type": "execute_result"
    }
   ],
   "source": [
    "numberof_user"
   ]
  },
  {
   "cell_type": "code",
   "execution_count": 206,
   "metadata": {},
   "outputs": [
    {
     "data": {
      "text/plain": [
       "0    10.856278\n",
       "1    89.143722\n",
       "Name: count, dtype: float64"
      ]
     },
     "execution_count": 206,
     "metadata": {},
     "output_type": "execute_result"
    }
   ],
   "source": [
    "#percenatge of numberof_users\n",
    "numberof_user['count']/len(df)*100"
   ]
  },
  {
   "cell_type": "code",
   "execution_count": null,
   "metadata": {},
   "outputs": [],
   "source": [
    "89% are subscribers 10% are customers"
   ]
  },
  {
   "cell_type": "code",
   "execution_count": 210,
   "metadata": {},
   "outputs": [],
   "source": [
    "#grouping time_year with user_type\n",
    "user_type_number = df.groupby([\"start_time_year_month_renamed\", \"user_type\"]).size().reset_index()"
   ]
  },
  {
   "cell_type": "code",
   "execution_count": 214,
   "metadata": {},
   "outputs": [
    {
     "data": {
      "text/plain": [
       "Text(0,0.5,'count [rides]')"
      ]
     },
     "execution_count": 214,
     "metadata": {},
     "output_type": "execute_result"
    },
    {
     "data": {
      "image/png": "[encoded data removed]",
      "text/plain": [
       "<Figure size 432x288 with 1 Axes>"
      ]
     },
     "metadata": {},
     "output_type": "display_data"
    }
   ],
   "source": [
    "sns.pointplot(x='start_time_year_month_renamed', y=0, hue='user_type',data=user_type_number)\n",
    "plt.title('The monthly trend of bike rides per user type', fontsize=22, y=1.015)\n",
    "plt.xlabel('year-month', labelpad=16)\n",
    "plt.ylabel('count [rides]', labelpad=16)"
   ]
  },
  {
   "cell_type": "code",
   "execution_count": null,
   "metadata": {},
   "outputs": [],
   "source": [
    "Subscriber are increasing over time.Customer are not increasing that fast"
   ]
  },
  {
   "cell_type": "code",
   "execution_count": null,
   "metadata": {},
   "outputs": [],
   "source": [
    "Trip duration per usertype?\n"
   ]
  },
  {
   "cell_type": "code",
   "execution_count": 219,
   "metadata": {},
   "outputs": [
    {
     "data": {
      "text/plain": [
       "Text(0,0.5,'minutes [trip duration]')"
      ]
     },
     "execution_count": 219,
     "metadata": {},
     "output_type": "execute_result"
    },
    {
     "data": {
      "image/png": "[encoded data removed]",
      "text/plain": [
       "<Figure size 936x504 with 1 Axes>"
      ]
     },
     "metadata": {},
     "output_type": "display_data"
    }
   ],
   "source": [
    "#grouping usser_type with duration\n",
    "user_duration = df.groupby('user_type')['duration_min'].mean().plot(kind='bar', color='navy', figsize=(13,7))\n",
    "user_duration.set_title('Average trip duration per user type', fontsize=20, y=1.015)\n",
    "user_duration.set_xlabel('user type', labelpad=16)\n",
    "user_duration.set_ylabel('minutes [trip duration]', labelpad=16)\n"
   ]
  },
  {
   "cell_type": "code",
   "execution_count": null,
   "metadata": {},
   "outputs": [],
   "source": [
    "Customers are having more rides than subcribers"
   ]
  },
  {
   "cell_type": "markdown",
   "metadata": {},
   "source": [
    "Trend of subcribers over age group?"
   ]
  },
  {
   "cell_type": "code",
   "execution_count": 234,
   "metadata": {},
   "outputs": [],
   "source": [
    "#grouping age groups on a particular date \n",
    "subscriber_age = df[df['user_type']=='Subscriber'].groupby(['start_time_year_month_renamed', 'member_age_bins']).agg({'bike_id':'count'}).reset_index()"
   ]
  },
  {
   "cell_type": "code",
   "execution_count": null,
   "metadata": {},
   "outputs": [],
   "source": []
  },
  {
   "cell_type": "code",
   "execution_count": 235,
   "metadata": {},
   "outputs": [
    {
     "data": {
      "text/html": [
       "<div>\n",
       "<style scoped>\n",
       "    .dataframe tbody tr th:only-of-type {\n",
       "        vertical-align: middle;\n",
       "    }\n",
       "\n",
       "    .dataframe tbody tr th {\n",
       "        vertical-align: top;\n",
       "    }\n",
       "\n",
       "    .dataframe thead th {\n",
       "        text-align: right;\n",
       "    }\n",
       "</style>\n",
       "<table border=\"1\" class=\"dataframe\">\n",
       "  <thead>\n",
       "    <tr style=\"text-align: right;\">\n",
       "      <th></th>\n",
       "      <th>start_time_year_month_renamed</th>\n",
       "      <th>member_age_bins</th>\n",
       "      <th>bike_id</th>\n",
       "    </tr>\n",
       "  </thead>\n",
       "  <tbody>\n",
       "    <tr>\n",
       "      <th>0</th>\n",
       "      <td>17-06</td>\n",
       "      <td>10 - 20</td>\n",
       "      <td>2</td>\n",
       "    </tr>\n",
       "    <tr>\n",
       "      <th>1</th>\n",
       "      <td>17-06</td>\n",
       "      <td>20 - 30</td>\n",
       "      <td>372</td>\n",
       "    </tr>\n",
       "    <tr>\n",
       "      <th>2</th>\n",
       "      <td>17-06</td>\n",
       "      <td>30 - 40</td>\n",
       "      <td>846</td>\n",
       "    </tr>\n",
       "    <tr>\n",
       "      <th>3</th>\n",
       "      <td>17-06</td>\n",
       "      <td>40 - 50</td>\n",
       "      <td>582</td>\n",
       "    </tr>\n",
       "    <tr>\n",
       "      <th>4</th>\n",
       "      <td>17-06</td>\n",
       "      <td>50 - 60</td>\n",
       "      <td>302</td>\n",
       "    </tr>\n",
       "    <tr>\n",
       "      <th>5</th>\n",
       "      <td>17-07</td>\n",
       "      <td>10 - 20</td>\n",
       "      <td>41</td>\n",
       "    </tr>\n",
       "    <tr>\n",
       "      <th>6</th>\n",
       "      <td>17-07</td>\n",
       "      <td>20 - 30</td>\n",
       "      <td>5042</td>\n",
       "    </tr>\n",
       "    <tr>\n",
       "      <th>7</th>\n",
       "      <td>17-07</td>\n",
       "      <td>30 - 40</td>\n",
       "      <td>11093</td>\n",
       "    </tr>\n",
       "    <tr>\n",
       "      <th>8</th>\n",
       "      <td>17-07</td>\n",
       "      <td>40 - 50</td>\n",
       "      <td>6378</td>\n",
       "    </tr>\n",
       "    <tr>\n",
       "      <th>9</th>\n",
       "      <td>17-07</td>\n",
       "      <td>50 - 60</td>\n",
       "      <td>3433</td>\n",
       "    </tr>\n",
       "    <tr>\n",
       "      <th>10</th>\n",
       "      <td>17-08</td>\n",
       "      <td>10 - 20</td>\n",
       "      <td>59</td>\n",
       "    </tr>\n",
       "    <tr>\n",
       "      <th>11</th>\n",
       "      <td>17-08</td>\n",
       "      <td>20 - 30</td>\n",
       "      <td>9944</td>\n",
       "    </tr>\n",
       "    <tr>\n",
       "      <th>12</th>\n",
       "      <td>17-08</td>\n",
       "      <td>30 - 40</td>\n",
       "      <td>20176</td>\n",
       "    </tr>\n",
       "    <tr>\n",
       "      <th>13</th>\n",
       "      <td>17-08</td>\n",
       "      <td>40 - 50</td>\n",
       "      <td>11319</td>\n",
       "    </tr>\n",
       "    <tr>\n",
       "      <th>14</th>\n",
       "      <td>17-08</td>\n",
       "      <td>50 - 60</td>\n",
       "      <td>5456</td>\n",
       "    </tr>\n",
       "    <tr>\n",
       "      <th>15</th>\n",
       "      <td>17-09</td>\n",
       "      <td>10 - 20</td>\n",
       "      <td>111</td>\n",
       "    </tr>\n",
       "    <tr>\n",
       "      <th>16</th>\n",
       "      <td>17-09</td>\n",
       "      <td>20 - 30</td>\n",
       "      <td>14266</td>\n",
       "    </tr>\n",
       "    <tr>\n",
       "      <th>17</th>\n",
       "      <td>17-09</td>\n",
       "      <td>30 - 40</td>\n",
       "      <td>23445</td>\n",
       "    </tr>\n",
       "    <tr>\n",
       "      <th>18</th>\n",
       "      <td>17-09</td>\n",
       "      <td>40 - 50</td>\n",
       "      <td>13041</td>\n",
       "    </tr>\n",
       "    <tr>\n",
       "      <th>19</th>\n",
       "      <td>17-09</td>\n",
       "      <td>50 - 60</td>\n",
       "      <td>5946</td>\n",
       "    </tr>\n",
       "    <tr>\n",
       "      <th>20</th>\n",
       "      <td>17-10</td>\n",
       "      <td>10 - 20</td>\n",
       "      <td>101</td>\n",
       "    </tr>\n",
       "    <tr>\n",
       "      <th>21</th>\n",
       "      <td>17-10</td>\n",
       "      <td>20 - 30</td>\n",
       "      <td>17684</td>\n",
       "    </tr>\n",
       "    <tr>\n",
       "      <th>22</th>\n",
       "      <td>17-10</td>\n",
       "      <td>30 - 40</td>\n",
       "      <td>27271</td>\n",
       "    </tr>\n",
       "    <tr>\n",
       "      <th>23</th>\n",
       "      <td>17-10</td>\n",
       "      <td>40 - 50</td>\n",
       "      <td>13406</td>\n",
       "    </tr>\n",
       "    <tr>\n",
       "      <th>24</th>\n",
       "      <td>17-10</td>\n",
       "      <td>50 - 60</td>\n",
       "      <td>6828</td>\n",
       "    </tr>\n",
       "    <tr>\n",
       "      <th>25</th>\n",
       "      <td>17-11</td>\n",
       "      <td>10 - 20</td>\n",
       "      <td>95</td>\n",
       "    </tr>\n",
       "    <tr>\n",
       "      <th>26</th>\n",
       "      <td>17-11</td>\n",
       "      <td>20 - 30</td>\n",
       "      <td>15954</td>\n",
       "    </tr>\n",
       "    <tr>\n",
       "      <th>27</th>\n",
       "      <td>17-11</td>\n",
       "      <td>30 - 40</td>\n",
       "      <td>24664</td>\n",
       "    </tr>\n",
       "    <tr>\n",
       "      <th>28</th>\n",
       "      <td>17-11</td>\n",
       "      <td>40 - 50</td>\n",
       "      <td>11500</td>\n",
       "    </tr>\n",
       "    <tr>\n",
       "      <th>29</th>\n",
       "      <td>17-11</td>\n",
       "      <td>50 - 60</td>\n",
       "      <td>5684</td>\n",
       "    </tr>\n",
       "    <tr>\n",
       "      <th>30</th>\n",
       "      <td>17-12</td>\n",
       "      <td>10 - 20</td>\n",
       "      <td>95</td>\n",
       "    </tr>\n",
       "    <tr>\n",
       "      <th>31</th>\n",
       "      <td>17-12</td>\n",
       "      <td>20 - 30</td>\n",
       "      <td>14175</td>\n",
       "    </tr>\n",
       "    <tr>\n",
       "      <th>32</th>\n",
       "      <td>17-12</td>\n",
       "      <td>30 - 40</td>\n",
       "      <td>22475</td>\n",
       "    </tr>\n",
       "    <tr>\n",
       "      <th>33</th>\n",
       "      <td>17-12</td>\n",
       "      <td>40 - 50</td>\n",
       "      <td>10565</td>\n",
       "    </tr>\n",
       "    <tr>\n",
       "      <th>34</th>\n",
       "      <td>17-12</td>\n",
       "      <td>50 - 60</td>\n",
       "      <td>5251</td>\n",
       "    </tr>\n",
       "  </tbody>\n",
       "</table>\n",
       "</div>"
      ],
      "text/plain": [
       "   start_time_year_month_renamed member_age_bins  bike_id\n",
       "0                          17-06         10 - 20        2\n",
       "1                          17-06         20 - 30      372\n",
       "2                          17-06         30 - 40      846\n",
       "3                          17-06         40 - 50      582\n",
       "4                          17-06         50 - 60      302\n",
       "5                          17-07         10 - 20       41\n",
       "6                          17-07         20 - 30     5042\n",
       "7                          17-07         30 - 40    11093\n",
       "8                          17-07         40 - 50     6378\n",
       "9                          17-07         50 - 60     3433\n",
       "10                         17-08         10 - 20       59\n",
       "11                         17-08         20 - 30     9944\n",
       "12                         17-08         30 - 40    20176\n",
       "13                         17-08         40 - 50    11319\n",
       "14                         17-08         50 - 60     5456\n",
       "15                         17-09         10 - 20      111\n",
       "16                         17-09         20 - 30    14266\n",
       "17                         17-09         30 - 40    23445\n",
       "18                         17-09         40 - 50    13041\n",
       "19                         17-09         50 - 60     5946\n",
       "20                         17-10         10 - 20      101\n",
       "21                         17-10         20 - 30    17684\n",
       "22                         17-10         30 - 40    27271\n",
       "23                         17-10         40 - 50    13406\n",
       "24                         17-10         50 - 60     6828\n",
       "25                         17-11         10 - 20       95\n",
       "26                         17-11         20 - 30    15954\n",
       "27                         17-11         30 - 40    24664\n",
       "28                         17-11         40 - 50    11500\n",
       "29                         17-11         50 - 60     5684\n",
       "30                         17-12         10 - 20       95\n",
       "31                         17-12         20 - 30    14175\n",
       "32                         17-12         30 - 40    22475\n",
       "33                         17-12         40 - 50    10565\n",
       "34                         17-12         50 - 60     5251"
      ]
     },
     "execution_count": 235,
     "metadata": {},
     "output_type": "execute_result"
    }
   ],
   "source": [
    "subscriber_age"
   ]
  },
  {
   "cell_type": "code",
   "execution_count": 241,
   "metadata": {},
   "outputs": [
    {
     "data": {
      "image/png": "[encoded data removed]",
      "text/plain": [
       "<Figure size 1080x576 with 1 Axes>"
      ]
     },
     "metadata": {},
     "output_type": "display_data"
    }
   ],
   "source": [
    "plt.figure(figsize=(15,8))\n",
    "sns.pointplot(x='start_time_year_month_renamed', y='bike_id', hue='member_age_bins', scale=.6, data=subscriber_age)\n",
    "plt.title(\"The monthly trend of bike rides per subscribers' member age group\", fontsize=22, y=1.015)\n",
    "plt.xlabel('year-month', labelpad=16)\n",
    "plt.ylabel('count [rides]', labelpad=16)\n",
    "leg.set_title('Member age group',prop={'size':16})"
   ]
  },
  {
   "cell_type": "code",
   "execution_count": null,
   "metadata": {},
   "outputs": [],
   "source": [
    "\n",
    "30 to 40 ages group are having more rides comparing to other age group"
   ]
  },
  {
   "cell_type": "code",
   "execution_count": null,
   "metadata": {},
   "outputs": [],
   "source": []
  }
 ],
 "metadata": {
  "kernelspec": {
   "display_name": "Python 3",
   "language": "python",
   "name": "python3"
  },
  "language_info": {
   "codemirror_mode": {
    "name": "ipython",
    "version": 3
   },
   "file_extension": ".py",
   "mimetype": "text/x-python",
   "name": "python",
   "nbconvert_exporter": "python",
   "pygments_lexer": "ipython3",
   "version": "3.6.5"
  }
 },
 "nbformat": 4,
 "nbformat_minor": 2
}
